{
  "nbformat": 4,
  "nbformat_minor": 0,
  "metadata": {
    "colab": {
      "name": "MELD.ipynb",
      "provenance": []
    },
    "kernelspec": {
      "name": "python3",
      "display_name": "Python 3"
    },
    "widgets": {
      "application/vnd.jupyter.widget-state+json": {
        "a1e100feb1454476bff516c49ad86fbf": {
          "model_module": "@jupyter-widgets/controls",
          "model_name": "HBoxModel",
          "state": {
            "_view_name": "HBoxView",
            "_dom_classes": [],
            "_model_name": "HBoxModel",
            "_view_module": "@jupyter-widgets/controls",
            "_model_module_version": "1.5.0",
            "_view_count": null,
            "_view_module_version": "1.5.0",
            "box_style": "",
            "layout": "IPY_MODEL_0ef81ff92dd14f6d84dcc6c54e803a44",
            "_model_module": "@jupyter-widgets/controls",
            "children": [
              "IPY_MODEL_ca8c5bf585324f99824e365f57c9c85e",
              "IPY_MODEL_ebd8579e5dd94aff88134730ec1203a5"
            ]
          }
        },
        "0ef81ff92dd14f6d84dcc6c54e803a44": {
          "model_module": "@jupyter-widgets/base",
          "model_name": "LayoutModel",
          "state": {
            "_view_name": "LayoutView",
            "grid_template_rows": null,
            "right": null,
            "justify_content": null,
            "_view_module": "@jupyter-widgets/base",
            "overflow": null,
            "_model_module_version": "1.2.0",
            "_view_count": null,
            "flex_flow": null,
            "width": null,
            "min_width": null,
            "border": null,
            "align_items": null,
            "bottom": null,
            "_model_module": "@jupyter-widgets/base",
            "top": null,
            "grid_column": null,
            "overflow_y": null,
            "overflow_x": null,
            "grid_auto_flow": null,
            "grid_area": null,
            "grid_template_columns": null,
            "flex": null,
            "_model_name": "LayoutModel",
            "justify_items": null,
            "grid_row": null,
            "max_height": null,
            "align_content": null,
            "visibility": null,
            "align_self": null,
            "height": null,
            "min_height": null,
            "padding": null,
            "grid_auto_rows": null,
            "grid_gap": null,
            "max_width": null,
            "order": null,
            "_view_module_version": "1.2.0",
            "grid_template_areas": null,
            "object_position": null,
            "object_fit": null,
            "grid_auto_columns": null,
            "margin": null,
            "display": null,
            "left": null
          }
        },
        "ca8c5bf585324f99824e365f57c9c85e": {
          "model_module": "@jupyter-widgets/controls",
          "model_name": "FloatProgressModel",
          "state": {
            "_view_name": "ProgressView",
            "style": "IPY_MODEL_0fc85830e6fe4a91ae124a4da2d9dba3",
            "_dom_classes": [],
            "description": "100%",
            "_model_name": "FloatProgressModel",
            "bar_style": "success",
            "max": 9989,
            "_view_module": "@jupyter-widgets/controls",
            "_model_module_version": "1.5.0",
            "value": 9989,
            "_view_count": null,
            "_view_module_version": "1.5.0",
            "orientation": "horizontal",
            "min": 0,
            "description_tooltip": null,
            "_model_module": "@jupyter-widgets/controls",
            "layout": "IPY_MODEL_45bb2bad05364e5c914d9881fd7fb544"
          }
        },
        "ebd8579e5dd94aff88134730ec1203a5": {
          "model_module": "@jupyter-widgets/controls",
          "model_name": "HTMLModel",
          "state": {
            "_view_name": "HTMLView",
            "style": "IPY_MODEL_3d5958693cfd4c6ebdb3d308a1d57a87",
            "_dom_classes": [],
            "description": "",
            "_model_name": "HTMLModel",
            "placeholder": "​",
            "_view_module": "@jupyter-widgets/controls",
            "_model_module_version": "1.5.0",
            "value": " 9989/9989 [00:02&lt;00:00, 4298.12it/s]",
            "_view_count": null,
            "_view_module_version": "1.5.0",
            "description_tooltip": null,
            "_model_module": "@jupyter-widgets/controls",
            "layout": "IPY_MODEL_8516927804414bea8f380c38e07aa9e3"
          }
        },
        "0fc85830e6fe4a91ae124a4da2d9dba3": {
          "model_module": "@jupyter-widgets/controls",
          "model_name": "ProgressStyleModel",
          "state": {
            "_view_name": "StyleView",
            "_model_name": "ProgressStyleModel",
            "description_width": "initial",
            "_view_module": "@jupyter-widgets/base",
            "_model_module_version": "1.5.0",
            "_view_count": null,
            "_view_module_version": "1.2.0",
            "bar_color": null,
            "_model_module": "@jupyter-widgets/controls"
          }
        },
        "45bb2bad05364e5c914d9881fd7fb544": {
          "model_module": "@jupyter-widgets/base",
          "model_name": "LayoutModel",
          "state": {
            "_view_name": "LayoutView",
            "grid_template_rows": null,
            "right": null,
            "justify_content": null,
            "_view_module": "@jupyter-widgets/base",
            "overflow": null,
            "_model_module_version": "1.2.0",
            "_view_count": null,
            "flex_flow": null,
            "width": null,
            "min_width": null,
            "border": null,
            "align_items": null,
            "bottom": null,
            "_model_module": "@jupyter-widgets/base",
            "top": null,
            "grid_column": null,
            "overflow_y": null,
            "overflow_x": null,
            "grid_auto_flow": null,
            "grid_area": null,
            "grid_template_columns": null,
            "flex": null,
            "_model_name": "LayoutModel",
            "justify_items": null,
            "grid_row": null,
            "max_height": null,
            "align_content": null,
            "visibility": null,
            "align_self": null,
            "height": null,
            "min_height": null,
            "padding": null,
            "grid_auto_rows": null,
            "grid_gap": null,
            "max_width": null,
            "order": null,
            "_view_module_version": "1.2.0",
            "grid_template_areas": null,
            "object_position": null,
            "object_fit": null,
            "grid_auto_columns": null,
            "margin": null,
            "display": null,
            "left": null
          }
        },
        "3d5958693cfd4c6ebdb3d308a1d57a87": {
          "model_module": "@jupyter-widgets/controls",
          "model_name": "DescriptionStyleModel",
          "state": {
            "_view_name": "StyleView",
            "_model_name": "DescriptionStyleModel",
            "description_width": "",
            "_view_module": "@jupyter-widgets/base",
            "_model_module_version": "1.5.0",
            "_view_count": null,
            "_view_module_version": "1.2.0",
            "_model_module": "@jupyter-widgets/controls"
          }
        },
        "8516927804414bea8f380c38e07aa9e3": {
          "model_module": "@jupyter-widgets/base",
          "model_name": "LayoutModel",
          "state": {
            "_view_name": "LayoutView",
            "grid_template_rows": null,
            "right": null,
            "justify_content": null,
            "_view_module": "@jupyter-widgets/base",
            "overflow": null,
            "_model_module_version": "1.2.0",
            "_view_count": null,
            "flex_flow": null,
            "width": null,
            "min_width": null,
            "border": null,
            "align_items": null,
            "bottom": null,
            "_model_module": "@jupyter-widgets/base",
            "top": null,
            "grid_column": null,
            "overflow_y": null,
            "overflow_x": null,
            "grid_auto_flow": null,
            "grid_area": null,
            "grid_template_columns": null,
            "flex": null,
            "_model_name": "LayoutModel",
            "justify_items": null,
            "grid_row": null,
            "max_height": null,
            "align_content": null,
            "visibility": null,
            "align_self": null,
            "height": null,
            "min_height": null,
            "padding": null,
            "grid_auto_rows": null,
            "grid_gap": null,
            "max_width": null,
            "order": null,
            "_view_module_version": "1.2.0",
            "grid_template_areas": null,
            "object_position": null,
            "object_fit": null,
            "grid_auto_columns": null,
            "margin": null,
            "display": null,
            "left": null
          }
        },
        "d1992c82e5704f7b94b1d513aadf2bd7": {
          "model_module": "@jupyter-widgets/controls",
          "model_name": "HBoxModel",
          "state": {
            "_view_name": "HBoxView",
            "_dom_classes": [],
            "_model_name": "HBoxModel",
            "_view_module": "@jupyter-widgets/controls",
            "_model_module_version": "1.5.0",
            "_view_count": null,
            "_view_module_version": "1.5.0",
            "box_style": "",
            "layout": "IPY_MODEL_b6acb96254c443108b7f6e9a96956e10",
            "_model_module": "@jupyter-widgets/controls",
            "children": [
              "IPY_MODEL_a5ce5aec7c074f92ada269f3f351e635",
              "IPY_MODEL_fa0cdce9cb3f44a5a669698935ca686d"
            ]
          }
        },
        "b6acb96254c443108b7f6e9a96956e10": {
          "model_module": "@jupyter-widgets/base",
          "model_name": "LayoutModel",
          "state": {
            "_view_name": "LayoutView",
            "grid_template_rows": null,
            "right": null,
            "justify_content": null,
            "_view_module": "@jupyter-widgets/base",
            "overflow": null,
            "_model_module_version": "1.2.0",
            "_view_count": null,
            "flex_flow": null,
            "width": null,
            "min_width": null,
            "border": null,
            "align_items": null,
            "bottom": null,
            "_model_module": "@jupyter-widgets/base",
            "top": null,
            "grid_column": null,
            "overflow_y": null,
            "overflow_x": null,
            "grid_auto_flow": null,
            "grid_area": null,
            "grid_template_columns": null,
            "flex": null,
            "_model_name": "LayoutModel",
            "justify_items": null,
            "grid_row": null,
            "max_height": null,
            "align_content": null,
            "visibility": null,
            "align_self": null,
            "height": null,
            "min_height": null,
            "padding": null,
            "grid_auto_rows": null,
            "grid_gap": null,
            "max_width": null,
            "order": null,
            "_view_module_version": "1.2.0",
            "grid_template_areas": null,
            "object_position": null,
            "object_fit": null,
            "grid_auto_columns": null,
            "margin": null,
            "display": null,
            "left": null
          }
        },
        "a5ce5aec7c074f92ada269f3f351e635": {
          "model_module": "@jupyter-widgets/controls",
          "model_name": "FloatProgressModel",
          "state": {
            "_view_name": "ProgressView",
            "style": "IPY_MODEL_e61f1e1f7fda4829befaf278fbafeb8a",
            "_dom_classes": [],
            "description": "100%",
            "_model_name": "FloatProgressModel",
            "bar_style": "success",
            "max": 1109,
            "_view_module": "@jupyter-widgets/controls",
            "_model_module_version": "1.5.0",
            "value": 1109,
            "_view_count": null,
            "_view_module_version": "1.5.0",
            "orientation": "horizontal",
            "min": 0,
            "description_tooltip": null,
            "_model_module": "@jupyter-widgets/controls",
            "layout": "IPY_MODEL_1737034400894f5691201a3a5de60c85"
          }
        },
        "fa0cdce9cb3f44a5a669698935ca686d": {
          "model_module": "@jupyter-widgets/controls",
          "model_name": "HTMLModel",
          "state": {
            "_view_name": "HTMLView",
            "style": "IPY_MODEL_ddbeb38b6f12496eb218e9db75a7124b",
            "_dom_classes": [],
            "description": "",
            "_model_name": "HTMLModel",
            "placeholder": "​",
            "_view_module": "@jupyter-widgets/controls",
            "_model_module_version": "1.5.0",
            "value": " 1109/1109 [00:01&lt;00:00, 603.96it/s]",
            "_view_count": null,
            "_view_module_version": "1.5.0",
            "description_tooltip": null,
            "_model_module": "@jupyter-widgets/controls",
            "layout": "IPY_MODEL_92a3215062e14a02adfe2bcae7232fc5"
          }
        },
        "e61f1e1f7fda4829befaf278fbafeb8a": {
          "model_module": "@jupyter-widgets/controls",
          "model_name": "ProgressStyleModel",
          "state": {
            "_view_name": "StyleView",
            "_model_name": "ProgressStyleModel",
            "description_width": "initial",
            "_view_module": "@jupyter-widgets/base",
            "_model_module_version": "1.5.0",
            "_view_count": null,
            "_view_module_version": "1.2.0",
            "bar_color": null,
            "_model_module": "@jupyter-widgets/controls"
          }
        },
        "1737034400894f5691201a3a5de60c85": {
          "model_module": "@jupyter-widgets/base",
          "model_name": "LayoutModel",
          "state": {
            "_view_name": "LayoutView",
            "grid_template_rows": null,
            "right": null,
            "justify_content": null,
            "_view_module": "@jupyter-widgets/base",
            "overflow": null,
            "_model_module_version": "1.2.0",
            "_view_count": null,
            "flex_flow": null,
            "width": null,
            "min_width": null,
            "border": null,
            "align_items": null,
            "bottom": null,
            "_model_module": "@jupyter-widgets/base",
            "top": null,
            "grid_column": null,
            "overflow_y": null,
            "overflow_x": null,
            "grid_auto_flow": null,
            "grid_area": null,
            "grid_template_columns": null,
            "flex": null,
            "_model_name": "LayoutModel",
            "justify_items": null,
            "grid_row": null,
            "max_height": null,
            "align_content": null,
            "visibility": null,
            "align_self": null,
            "height": null,
            "min_height": null,
            "padding": null,
            "grid_auto_rows": null,
            "grid_gap": null,
            "max_width": null,
            "order": null,
            "_view_module_version": "1.2.0",
            "grid_template_areas": null,
            "object_position": null,
            "object_fit": null,
            "grid_auto_columns": null,
            "margin": null,
            "display": null,
            "left": null
          }
        },
        "ddbeb38b6f12496eb218e9db75a7124b": {
          "model_module": "@jupyter-widgets/controls",
          "model_name": "DescriptionStyleModel",
          "state": {
            "_view_name": "StyleView",
            "_model_name": "DescriptionStyleModel",
            "description_width": "",
            "_view_module": "@jupyter-widgets/base",
            "_model_module_version": "1.5.0",
            "_view_count": null,
            "_view_module_version": "1.2.0",
            "_model_module": "@jupyter-widgets/controls"
          }
        },
        "92a3215062e14a02adfe2bcae7232fc5": {
          "model_module": "@jupyter-widgets/base",
          "model_name": "LayoutModel",
          "state": {
            "_view_name": "LayoutView",
            "grid_template_rows": null,
            "right": null,
            "justify_content": null,
            "_view_module": "@jupyter-widgets/base",
            "overflow": null,
            "_model_module_version": "1.2.0",
            "_view_count": null,
            "flex_flow": null,
            "width": null,
            "min_width": null,
            "border": null,
            "align_items": null,
            "bottom": null,
            "_model_module": "@jupyter-widgets/base",
            "top": null,
            "grid_column": null,
            "overflow_y": null,
            "overflow_x": null,
            "grid_auto_flow": null,
            "grid_area": null,
            "grid_template_columns": null,
            "flex": null,
            "_model_name": "LayoutModel",
            "justify_items": null,
            "grid_row": null,
            "max_height": null,
            "align_content": null,
            "visibility": null,
            "align_self": null,
            "height": null,
            "min_height": null,
            "padding": null,
            "grid_auto_rows": null,
            "grid_gap": null,
            "max_width": null,
            "order": null,
            "_view_module_version": "1.2.0",
            "grid_template_areas": null,
            "object_position": null,
            "object_fit": null,
            "grid_auto_columns": null,
            "margin": null,
            "display": null,
            "left": null
          }
        },
        "b0328492807140fe8f9cd187d08bc1e5": {
          "model_module": "@jupyter-widgets/controls",
          "model_name": "HBoxModel",
          "state": {
            "_view_name": "HBoxView",
            "_dom_classes": [],
            "_model_name": "HBoxModel",
            "_view_module": "@jupyter-widgets/controls",
            "_model_module_version": "1.5.0",
            "_view_count": null,
            "_view_module_version": "1.5.0",
            "box_style": "",
            "layout": "IPY_MODEL_7129b7920dd044e99892c660a067a72a",
            "_model_module": "@jupyter-widgets/controls",
            "children": [
              "IPY_MODEL_232fe4dba5e94332918014b3642f2f7e",
              "IPY_MODEL_aca13e25018b4823826abb4eadf4ff2b"
            ]
          }
        },
        "7129b7920dd044e99892c660a067a72a": {
          "model_module": "@jupyter-widgets/base",
          "model_name": "LayoutModel",
          "state": {
            "_view_name": "LayoutView",
            "grid_template_rows": null,
            "right": null,
            "justify_content": null,
            "_view_module": "@jupyter-widgets/base",
            "overflow": null,
            "_model_module_version": "1.2.0",
            "_view_count": null,
            "flex_flow": null,
            "width": null,
            "min_width": null,
            "border": null,
            "align_items": null,
            "bottom": null,
            "_model_module": "@jupyter-widgets/base",
            "top": null,
            "grid_column": null,
            "overflow_y": null,
            "overflow_x": null,
            "grid_auto_flow": null,
            "grid_area": null,
            "grid_template_columns": null,
            "flex": null,
            "_model_name": "LayoutModel",
            "justify_items": null,
            "grid_row": null,
            "max_height": null,
            "align_content": null,
            "visibility": null,
            "align_self": null,
            "height": null,
            "min_height": null,
            "padding": null,
            "grid_auto_rows": null,
            "grid_gap": null,
            "max_width": null,
            "order": null,
            "_view_module_version": "1.2.0",
            "grid_template_areas": null,
            "object_position": null,
            "object_fit": null,
            "grid_auto_columns": null,
            "margin": null,
            "display": null,
            "left": null
          }
        },
        "232fe4dba5e94332918014b3642f2f7e": {
          "model_module": "@jupyter-widgets/controls",
          "model_name": "FloatProgressModel",
          "state": {
            "_view_name": "ProgressView",
            "style": "IPY_MODEL_73c3270e4e414e37896a6166ff0d7df9",
            "_dom_classes": [],
            "description": "100%",
            "_model_name": "FloatProgressModel",
            "bar_style": "success",
            "max": 2610,
            "_view_module": "@jupyter-widgets/controls",
            "_model_module_version": "1.5.0",
            "value": 2610,
            "_view_count": null,
            "_view_module_version": "1.5.0",
            "orientation": "horizontal",
            "min": 0,
            "description_tooltip": null,
            "_model_module": "@jupyter-widgets/controls",
            "layout": "IPY_MODEL_1fe7ed81f81c4048861fe8ee7dbd4c1a"
          }
        },
        "aca13e25018b4823826abb4eadf4ff2b": {
          "model_module": "@jupyter-widgets/controls",
          "model_name": "HTMLModel",
          "state": {
            "_view_name": "HTMLView",
            "style": "IPY_MODEL_2df7b88097284a2a9a0ef10d98705971",
            "_dom_classes": [],
            "description": "",
            "_model_name": "HTMLModel",
            "placeholder": "​",
            "_view_module": "@jupyter-widgets/controls",
            "_model_module_version": "1.5.0",
            "value": " 2610/2610 [00:00&lt;00:00, 9968.09it/s]",
            "_view_count": null,
            "_view_module_version": "1.5.0",
            "description_tooltip": null,
            "_model_module": "@jupyter-widgets/controls",
            "layout": "IPY_MODEL_9dd4442b4ee4492ca467fc5e96dad01d"
          }
        },
        "73c3270e4e414e37896a6166ff0d7df9": {
          "model_module": "@jupyter-widgets/controls",
          "model_name": "ProgressStyleModel",
          "state": {
            "_view_name": "StyleView",
            "_model_name": "ProgressStyleModel",
            "description_width": "initial",
            "_view_module": "@jupyter-widgets/base",
            "_model_module_version": "1.5.0",
            "_view_count": null,
            "_view_module_version": "1.2.0",
            "bar_color": null,
            "_model_module": "@jupyter-widgets/controls"
          }
        },
        "1fe7ed81f81c4048861fe8ee7dbd4c1a": {
          "model_module": "@jupyter-widgets/base",
          "model_name": "LayoutModel",
          "state": {
            "_view_name": "LayoutView",
            "grid_template_rows": null,
            "right": null,
            "justify_content": null,
            "_view_module": "@jupyter-widgets/base",
            "overflow": null,
            "_model_module_version": "1.2.0",
            "_view_count": null,
            "flex_flow": null,
            "width": null,
            "min_width": null,
            "border": null,
            "align_items": null,
            "bottom": null,
            "_model_module": "@jupyter-widgets/base",
            "top": null,
            "grid_column": null,
            "overflow_y": null,
            "overflow_x": null,
            "grid_auto_flow": null,
            "grid_area": null,
            "grid_template_columns": null,
            "flex": null,
            "_model_name": "LayoutModel",
            "justify_items": null,
            "grid_row": null,
            "max_height": null,
            "align_content": null,
            "visibility": null,
            "align_self": null,
            "height": null,
            "min_height": null,
            "padding": null,
            "grid_auto_rows": null,
            "grid_gap": null,
            "max_width": null,
            "order": null,
            "_view_module_version": "1.2.0",
            "grid_template_areas": null,
            "object_position": null,
            "object_fit": null,
            "grid_auto_columns": null,
            "margin": null,
            "display": null,
            "left": null
          }
        },
        "2df7b88097284a2a9a0ef10d98705971": {
          "model_module": "@jupyter-widgets/controls",
          "model_name": "DescriptionStyleModel",
          "state": {
            "_view_name": "StyleView",
            "_model_name": "DescriptionStyleModel",
            "description_width": "",
            "_view_module": "@jupyter-widgets/base",
            "_model_module_version": "1.5.0",
            "_view_count": null,
            "_view_module_version": "1.2.0",
            "_model_module": "@jupyter-widgets/controls"
          }
        },
        "9dd4442b4ee4492ca467fc5e96dad01d": {
          "model_module": "@jupyter-widgets/base",
          "model_name": "LayoutModel",
          "state": {
            "_view_name": "LayoutView",
            "grid_template_rows": null,
            "right": null,
            "justify_content": null,
            "_view_module": "@jupyter-widgets/base",
            "overflow": null,
            "_model_module_version": "1.2.0",
            "_view_count": null,
            "flex_flow": null,
            "width": null,
            "min_width": null,
            "border": null,
            "align_items": null,
            "bottom": null,
            "_model_module": "@jupyter-widgets/base",
            "top": null,
            "grid_column": null,
            "overflow_y": null,
            "overflow_x": null,
            "grid_auto_flow": null,
            "grid_area": null,
            "grid_template_columns": null,
            "flex": null,
            "_model_name": "LayoutModel",
            "justify_items": null,
            "grid_row": null,
            "max_height": null,
            "align_content": null,
            "visibility": null,
            "align_self": null,
            "height": null,
            "min_height": null,
            "padding": null,
            "grid_auto_rows": null,
            "grid_gap": null,
            "max_width": null,
            "order": null,
            "_view_module_version": "1.2.0",
            "grid_template_areas": null,
            "object_position": null,
            "object_fit": null,
            "grid_auto_columns": null,
            "margin": null,
            "display": null,
            "left": null
          }
        },
        "74122138243141e6887f7beb89918e85": {
          "model_module": "@jupyter-widgets/controls",
          "model_name": "HBoxModel",
          "state": {
            "_view_name": "HBoxView",
            "_dom_classes": [],
            "_model_name": "HBoxModel",
            "_view_module": "@jupyter-widgets/controls",
            "_model_module_version": "1.5.0",
            "_view_count": null,
            "_view_module_version": "1.5.0",
            "box_style": "",
            "layout": "IPY_MODEL_09c2e61ab2c242fc9b3dfdffd71353ef",
            "_model_module": "@jupyter-widgets/controls",
            "children": [
              "IPY_MODEL_9a962572589e4a11ae24b7a02f3be44b",
              "IPY_MODEL_2617538254b84bd3909012b24071f298"
            ]
          }
        },
        "09c2e61ab2c242fc9b3dfdffd71353ef": {
          "model_module": "@jupyter-widgets/base",
          "model_name": "LayoutModel",
          "state": {
            "_view_name": "LayoutView",
            "grid_template_rows": null,
            "right": null,
            "justify_content": null,
            "_view_module": "@jupyter-widgets/base",
            "overflow": null,
            "_model_module_version": "1.2.0",
            "_view_count": null,
            "flex_flow": null,
            "width": null,
            "min_width": null,
            "border": null,
            "align_items": null,
            "bottom": null,
            "_model_module": "@jupyter-widgets/base",
            "top": null,
            "grid_column": null,
            "overflow_y": null,
            "overflow_x": null,
            "grid_auto_flow": null,
            "grid_area": null,
            "grid_template_columns": null,
            "flex": null,
            "_model_name": "LayoutModel",
            "justify_items": null,
            "grid_row": null,
            "max_height": null,
            "align_content": null,
            "visibility": null,
            "align_self": null,
            "height": null,
            "min_height": null,
            "padding": null,
            "grid_auto_rows": null,
            "grid_gap": null,
            "max_width": null,
            "order": null,
            "_view_module_version": "1.2.0",
            "grid_template_areas": null,
            "object_position": null,
            "object_fit": null,
            "grid_auto_columns": null,
            "margin": null,
            "display": null,
            "left": null
          }
        },
        "9a962572589e4a11ae24b7a02f3be44b": {
          "model_module": "@jupyter-widgets/controls",
          "model_name": "FloatProgressModel",
          "state": {
            "_view_name": "ProgressView",
            "style": "IPY_MODEL_69c5e10dd0ae48d6a8b1ec9528d2e4c6",
            "_dom_classes": [],
            "description": "",
            "_model_name": "FloatProgressModel",
            "bar_style": "success",
            "max": 1,
            "_view_module": "@jupyter-widgets/controls",
            "_model_module_version": "1.5.0",
            "value": 1,
            "_view_count": null,
            "_view_module_version": "1.5.0",
            "orientation": "horizontal",
            "min": 0,
            "description_tooltip": null,
            "_model_module": "@jupyter-widgets/controls",
            "layout": "IPY_MODEL_dae2f1b6cf4b4c48840bdb35bd0acc96"
          }
        },
        "2617538254b84bd3909012b24071f298": {
          "model_module": "@jupyter-widgets/controls",
          "model_name": "HTMLModel",
          "state": {
            "_view_name": "HTMLView",
            "style": "IPY_MODEL_1863dbb91556491bb02189df8d7b4ec4",
            "_dom_classes": [],
            "description": "",
            "_model_name": "HTMLModel",
            "placeholder": "​",
            "_view_module": "@jupyter-widgets/controls",
            "_model_module_version": "1.5.0",
            "value": " 1917494/? [13:17&lt;00:00, 2404.40it/s]",
            "_view_count": null,
            "_view_module_version": "1.5.0",
            "description_tooltip": null,
            "_model_module": "@jupyter-widgets/controls",
            "layout": "IPY_MODEL_ca3a3de2930a4c1da2f66fcd43208a4c"
          }
        },
        "69c5e10dd0ae48d6a8b1ec9528d2e4c6": {
          "model_module": "@jupyter-widgets/controls",
          "model_name": "ProgressStyleModel",
          "state": {
            "_view_name": "StyleView",
            "_model_name": "ProgressStyleModel",
            "description_width": "initial",
            "_view_module": "@jupyter-widgets/base",
            "_model_module_version": "1.5.0",
            "_view_count": null,
            "_view_module_version": "1.2.0",
            "bar_color": null,
            "_model_module": "@jupyter-widgets/controls"
          }
        },
        "dae2f1b6cf4b4c48840bdb35bd0acc96": {
          "model_module": "@jupyter-widgets/base",
          "model_name": "LayoutModel",
          "state": {
            "_view_name": "LayoutView",
            "grid_template_rows": null,
            "right": null,
            "justify_content": null,
            "_view_module": "@jupyter-widgets/base",
            "overflow": null,
            "_model_module_version": "1.2.0",
            "_view_count": null,
            "flex_flow": null,
            "width": null,
            "min_width": null,
            "border": null,
            "align_items": null,
            "bottom": null,
            "_model_module": "@jupyter-widgets/base",
            "top": null,
            "grid_column": null,
            "overflow_y": null,
            "overflow_x": null,
            "grid_auto_flow": null,
            "grid_area": null,
            "grid_template_columns": null,
            "flex": null,
            "_model_name": "LayoutModel",
            "justify_items": null,
            "grid_row": null,
            "max_height": null,
            "align_content": null,
            "visibility": null,
            "align_self": null,
            "height": null,
            "min_height": null,
            "padding": null,
            "grid_auto_rows": null,
            "grid_gap": null,
            "max_width": null,
            "order": null,
            "_view_module_version": "1.2.0",
            "grid_template_areas": null,
            "object_position": null,
            "object_fit": null,
            "grid_auto_columns": null,
            "margin": null,
            "display": null,
            "left": null
          }
        },
        "1863dbb91556491bb02189df8d7b4ec4": {
          "model_module": "@jupyter-widgets/controls",
          "model_name": "DescriptionStyleModel",
          "state": {
            "_view_name": "StyleView",
            "_model_name": "DescriptionStyleModel",
            "description_width": "",
            "_view_module": "@jupyter-widgets/base",
            "_model_module_version": "1.5.0",
            "_view_count": null,
            "_view_module_version": "1.2.0",
            "_model_module": "@jupyter-widgets/controls"
          }
        },
        "ca3a3de2930a4c1da2f66fcd43208a4c": {
          "model_module": "@jupyter-widgets/base",
          "model_name": "LayoutModel",
          "state": {
            "_view_name": "LayoutView",
            "grid_template_rows": null,
            "right": null,
            "justify_content": null,
            "_view_module": "@jupyter-widgets/base",
            "overflow": null,
            "_model_module_version": "1.2.0",
            "_view_count": null,
            "flex_flow": null,
            "width": null,
            "min_width": null,
            "border": null,
            "align_items": null,
            "bottom": null,
            "_model_module": "@jupyter-widgets/base",
            "top": null,
            "grid_column": null,
            "overflow_y": null,
            "overflow_x": null,
            "grid_auto_flow": null,
            "grid_area": null,
            "grid_template_columns": null,
            "flex": null,
            "_model_name": "LayoutModel",
            "justify_items": null,
            "grid_row": null,
            "max_height": null,
            "align_content": null,
            "visibility": null,
            "align_self": null,
            "height": null,
            "min_height": null,
            "padding": null,
            "grid_auto_rows": null,
            "grid_gap": null,
            "max_width": null,
            "order": null,
            "_view_module_version": "1.2.0",
            "grid_template_areas": null,
            "object_position": null,
            "object_fit": null,
            "grid_auto_columns": null,
            "margin": null,
            "display": null,
            "left": null
          }
        },
        "a44be1f62e1d4bb0974123654960445e": {
          "model_module": "@jupyter-widgets/controls",
          "model_name": "HBoxModel",
          "state": {
            "_view_name": "HBoxView",
            "_dom_classes": [],
            "_model_name": "HBoxModel",
            "_view_module": "@jupyter-widgets/controls",
            "_model_module_version": "1.5.0",
            "_view_count": null,
            "_view_module_version": "1.5.0",
            "box_style": "",
            "layout": "IPY_MODEL_ca9c534535e446edac77563c8bce6b00",
            "_model_module": "@jupyter-widgets/controls",
            "children": [
              "IPY_MODEL_b3a5b1b9932f4c949fe5bce9af896f7f",
              "IPY_MODEL_7be783a53a464c7e896affe65d0ec9cb"
            ]
          }
        },
        "ca9c534535e446edac77563c8bce6b00": {
          "model_module": "@jupyter-widgets/base",
          "model_name": "LayoutModel",
          "state": {
            "_view_name": "LayoutView",
            "grid_template_rows": null,
            "right": null,
            "justify_content": null,
            "_view_module": "@jupyter-widgets/base",
            "overflow": null,
            "_model_module_version": "1.2.0",
            "_view_count": null,
            "flex_flow": null,
            "width": null,
            "min_width": null,
            "border": null,
            "align_items": null,
            "bottom": null,
            "_model_module": "@jupyter-widgets/base",
            "top": null,
            "grid_column": null,
            "overflow_y": null,
            "overflow_x": null,
            "grid_auto_flow": null,
            "grid_area": null,
            "grid_template_columns": null,
            "flex": null,
            "_model_name": "LayoutModel",
            "justify_items": null,
            "grid_row": null,
            "max_height": null,
            "align_content": null,
            "visibility": null,
            "align_self": null,
            "height": null,
            "min_height": null,
            "padding": null,
            "grid_auto_rows": null,
            "grid_gap": null,
            "max_width": null,
            "order": null,
            "_view_module_version": "1.2.0",
            "grid_template_areas": null,
            "object_position": null,
            "object_fit": null,
            "grid_auto_columns": null,
            "margin": null,
            "display": null,
            "left": null
          }
        },
        "b3a5b1b9932f4c949fe5bce9af896f7f": {
          "model_module": "@jupyter-widgets/controls",
          "model_name": "FloatProgressModel",
          "state": {
            "_view_name": "ProgressView",
            "style": "IPY_MODEL_0aef6a2b43214e2fb8cb9f93afe51aad",
            "_dom_classes": [],
            "description": "100%",
            "_model_name": "FloatProgressModel",
            "bar_style": "success",
            "max": 5654,
            "_view_module": "@jupyter-widgets/controls",
            "_model_module_version": "1.5.0",
            "value": 5654,
            "_view_count": null,
            "_view_module_version": "1.5.0",
            "orientation": "horizontal",
            "min": 0,
            "description_tooltip": null,
            "_model_module": "@jupyter-widgets/controls",
            "layout": "IPY_MODEL_edab2df13608488a863b20f0b5588720"
          }
        },
        "7be783a53a464c7e896affe65d0ec9cb": {
          "model_module": "@jupyter-widgets/controls",
          "model_name": "HTMLModel",
          "state": {
            "_view_name": "HTMLView",
            "style": "IPY_MODEL_a28ef7ff25c84618bb550e0c84cc11bf",
            "_dom_classes": [],
            "description": "",
            "_model_name": "HTMLModel",
            "placeholder": "​",
            "_view_module": "@jupyter-widgets/controls",
            "_model_module_version": "1.5.0",
            "value": " 5654/5654 [07:45&lt;00:00, 12.13it/s]",
            "_view_count": null,
            "_view_module_version": "1.5.0",
            "description_tooltip": null,
            "_model_module": "@jupyter-widgets/controls",
            "layout": "IPY_MODEL_e8ed7280d39748ae8d4a67d6257ef729"
          }
        },
        "0aef6a2b43214e2fb8cb9f93afe51aad": {
          "model_module": "@jupyter-widgets/controls",
          "model_name": "ProgressStyleModel",
          "state": {
            "_view_name": "StyleView",
            "_model_name": "ProgressStyleModel",
            "description_width": "initial",
            "_view_module": "@jupyter-widgets/base",
            "_model_module_version": "1.5.0",
            "_view_count": null,
            "_view_module_version": "1.2.0",
            "bar_color": null,
            "_model_module": "@jupyter-widgets/controls"
          }
        },
        "edab2df13608488a863b20f0b5588720": {
          "model_module": "@jupyter-widgets/base",
          "model_name": "LayoutModel",
          "state": {
            "_view_name": "LayoutView",
            "grid_template_rows": null,
            "right": null,
            "justify_content": null,
            "_view_module": "@jupyter-widgets/base",
            "overflow": null,
            "_model_module_version": "1.2.0",
            "_view_count": null,
            "flex_flow": null,
            "width": null,
            "min_width": null,
            "border": null,
            "align_items": null,
            "bottom": null,
            "_model_module": "@jupyter-widgets/base",
            "top": null,
            "grid_column": null,
            "overflow_y": null,
            "overflow_x": null,
            "grid_auto_flow": null,
            "grid_area": null,
            "grid_template_columns": null,
            "flex": null,
            "_model_name": "LayoutModel",
            "justify_items": null,
            "grid_row": null,
            "max_height": null,
            "align_content": null,
            "visibility": null,
            "align_self": null,
            "height": null,
            "min_height": null,
            "padding": null,
            "grid_auto_rows": null,
            "grid_gap": null,
            "max_width": null,
            "order": null,
            "_view_module_version": "1.2.0",
            "grid_template_areas": null,
            "object_position": null,
            "object_fit": null,
            "grid_auto_columns": null,
            "margin": null,
            "display": null,
            "left": null
          }
        },
        "a28ef7ff25c84618bb550e0c84cc11bf": {
          "model_module": "@jupyter-widgets/controls",
          "model_name": "DescriptionStyleModel",
          "state": {
            "_view_name": "StyleView",
            "_model_name": "DescriptionStyleModel",
            "description_width": "",
            "_view_module": "@jupyter-widgets/base",
            "_model_module_version": "1.5.0",
            "_view_count": null,
            "_view_module_version": "1.2.0",
            "_model_module": "@jupyter-widgets/controls"
          }
        },
        "e8ed7280d39748ae8d4a67d6257ef729": {
          "model_module": "@jupyter-widgets/base",
          "model_name": "LayoutModel",
          "state": {
            "_view_name": "LayoutView",
            "grid_template_rows": null,
            "right": null,
            "justify_content": null,
            "_view_module": "@jupyter-widgets/base",
            "overflow": null,
            "_model_module_version": "1.2.0",
            "_view_count": null,
            "flex_flow": null,
            "width": null,
            "min_width": null,
            "border": null,
            "align_items": null,
            "bottom": null,
            "_model_module": "@jupyter-widgets/base",
            "top": null,
            "grid_column": null,
            "overflow_y": null,
            "overflow_x": null,
            "grid_auto_flow": null,
            "grid_area": null,
            "grid_template_columns": null,
            "flex": null,
            "_model_name": "LayoutModel",
            "justify_items": null,
            "grid_row": null,
            "max_height": null,
            "align_content": null,
            "visibility": null,
            "align_self": null,
            "height": null,
            "min_height": null,
            "padding": null,
            "grid_auto_rows": null,
            "grid_gap": null,
            "max_width": null,
            "order": null,
            "_view_module_version": "1.2.0",
            "grid_template_areas": null,
            "object_position": null,
            "object_fit": null,
            "grid_auto_columns": null,
            "margin": null,
            "display": null,
            "left": null
          }
        }
      }
    }
  },
  "cells": [
    {
      "cell_type": "markdown",
      "metadata": {
        "id": "jQEdSu2BPWfz",
        "colab_type": "text"
      },
      "source": [
        "Header files"
      ]
    },
    {
      "cell_type": "code",
      "metadata": {
        "id": "vY3JAOKWeaSG",
        "colab_type": "code",
        "colab": {}
      },
      "source": [
        "from keras.preprocessing.text import Tokenizer\n",
        "from keras.preprocessing.sequence import pad_sequences\n",
        "import pandas as pd\n",
        "import seaborn as sns\n",
        "import numpy as np\n",
        "import pickle\n",
        "from sklearn import preprocessing\n",
        "from sklearn.model_selection import RandomizedSearchCV\n",
        "from sklearn.metrics import log_loss\n",
        "from sklearn.metrics import confusion_matrix\n",
        "from sklearn.model_selection import train_test_split\n",
        "from gensim.scripts.glove2word2vec import glove2word2vec\n",
        "from keras.callbacks import EarlyStopping\n",
        "from keras.layers import Bidirectional,BatchNormalization,Flatten,Dropout,MaxPooling1D,Conv1D,Dense,LSTM,Dropout,multiply,Embedding,Concatenate,Input,Bidirectional,TimeDistributed\n",
        "from keras.preprocessing.text import Tokenizer \n",
        "from keras.preprocessing.sequence import pad_sequences\n",
        "from keras.utils import np_utils\n",
        "from keras.models import Model\n",
        "from keras import backend as K \n",
        "from datetime import datetime\n",
        "from tensorflow.keras.models import model_from_json"
      ],
      "execution_count": 2,
      "outputs": []
    },
    {
      "cell_type": "markdown",
      "metadata": {
        "id": "x5tbeS0iPbvS",
        "colab_type": "text"
      },
      "source": [
        "Download dataset"
      ]
    },
    {
      "cell_type": "code",
      "metadata": {
        "id": "HM2YFq6eZnU7",
        "colab_type": "code",
        "colab": {
          "base_uri": "https://localhost:8080/",
          "height": 208
        },
        "outputId": "cc4ad923-1c31-4834-8798-0ef88d3430a4"
      },
      "source": [
        "!wget --header=\"Host: codeload.github.com\" --header=\"User-Agent: Mozilla/5.0 (X11; Linux x86_64) AppleWebKit/537.36 (KHTML, like Gecko) Chrome/83.0.4103.97 Safari/537.36\" --header=\"Accept: text/html,application/xhtml+xml,application/xml;q=0.9,image/webp,image/apng,*/*;q=0.8,application/signed-exchange;v=b3;q=0.9\" --header=\"Accept-Language: en-IN,en-GB;q=0.9,en-US;q=0.8,en;q=0.7\" --header=\"Referer: https://github.com/declare-lab/MELD\" --header=\"Cookie: _octo=GH1.1.1355521219.1593976305; logged_in=no; _ga=GA1.2.1768389065.1593976308; _gat=1; tz=Asia%2FCalcutta\" --header=\"Connection: keep-alive\" \"https://codeload.github.com/declare-lab/MELD/zip/master\" -c -O 'MELD-master.zip'"
      ],
      "execution_count": 3,
      "outputs": [
        {
          "output_type": "stream",
          "text": [
            "--2020-07-11 02:44:54--  https://codeload.github.com/declare-lab/MELD/zip/master\n",
            "Resolving codeload.github.com (codeload.github.com)... 140.82.114.10\n",
            "Connecting to codeload.github.com (codeload.github.com)|140.82.114.10|:443... connected.\n",
            "HTTP request sent, awaiting response... 200 OK\n",
            "Length: unspecified [application/zip]\n",
            "Saving to: ‘MELD-master.zip’\n",
            "\n",
            "\rMELD-master.zip         [<=>                 ]       0  --.-KB/s               \rMELD-master.zip         [ <=>                ]   1.04M  5.06MB/s               \rMELD-master.zip         [  <=>               ]   2.08M  7.15MB/s    in 0.3s    \n",
            "\n",
            "2020-07-11 02:44:55 (7.15 MB/s) - ‘MELD-master.zip’ saved [2180995]\n",
            "\n"
          ],
          "name": "stdout"
        }
      ]
    },
    {
      "cell_type": "code",
      "metadata": {
        "id": "rI2CREeFZq-R",
        "colab_type": "code",
        "colab": {
          "base_uri": "https://localhost:8080/",
          "height": 521
        },
        "outputId": "dfad635b-d8fd-4f60-fc39-408e12116298"
      },
      "source": [
        "!unzip /content/MELD-master.zip"
      ],
      "execution_count": 4,
      "outputs": [
        {
          "output_type": "stream",
          "text": [
            "Archive:  /content/MELD-master.zip\n",
            "677afb1ba7dadfeab3668322314d37ccce9b2bb2\n",
            "   creating: MELD-master/\n",
            "  inflating: MELD-master/LICENSE     \n",
            "  inflating: MELD-master/README.md   \n",
            "   creating: MELD-master/baseline/\n",
            "  inflating: MELD-master/baseline/baseline.py  \n",
            "  inflating: MELD-master/baseline/data_helpers.py  \n",
            "   creating: MELD-master/data/\n",
            "   creating: MELD-master/data/MELD/\n",
            "  inflating: MELD-master/data/MELD/dev_sent_emo.csv  \n",
            "  inflating: MELD-master/data/MELD/test_sent_emo.csv  \n",
            "  inflating: MELD-master/data/MELD/train_sent_emo.csv  \n",
            "   creating: MELD-master/data/MELD_Dyadic/\n",
            "  inflating: MELD-master/data/MELD_Dyadic/dev_sent_emo_dya.csv  \n",
            "  inflating: MELD-master/data/MELD_Dyadic/test_sent_emo_dya.csv  \n",
            "  inflating: MELD-master/data/MELD_Dyadic/train_sent_emo_dya.csv  \n",
            "   creating: MELD-master/data/emorynlp/\n",
            "  inflating: MELD-master/data/emorynlp/emorynlp_dev_final.csv  \n",
            "  inflating: MELD-master/data/emorynlp/emorynlp_test_final.csv  \n",
            "  inflating: MELD-master/data/emorynlp/emorynlp_train_final.csv  \n",
            "   creating: MELD-master/data/pickles/\n",
            "  inflating: MELD-master/data/pickles/download-features.txt  \n",
            "   creating: MELD-master/images/\n",
            "  inflating: MELD-master/images/emotion_shift.jpeg  \n",
            "  inflating: MELD-master/images/sc4.png  \n",
            "   creating: MELD-master/utils/\n",
            "  inflating: MELD-master/utils/read_emorynlp.py  \n",
            "  inflating: MELD-master/utils/read_meld.py  \n"
          ],
          "name": "stdout"
        }
      ]
    },
    {
      "cell_type": "code",
      "metadata": {
        "id": "4RQPj7I6Z0K7",
        "colab_type": "code",
        "colab": {}
      },
      "source": [
        "train_data = pd.read_csv('/content/MELD-master/data/MELD/train_sent_emo.csv')\n",
        "cv_data = pd.read_csv('/content/MELD-master/data/MELD/dev_sent_emo.csv')\n",
        "test_data = pd.read_csv('/content/MELD-master/data/MELD/test_sent_emo.csv')"
      ],
      "execution_count": 5,
      "outputs": []
    },
    {
      "cell_type": "code",
      "metadata": {
        "id": "esXIu5l9atrY",
        "colab_type": "code",
        "colab": {
          "base_uri": "https://localhost:8080/",
          "height": 487
        },
        "outputId": "da36bafe-c708-4200-94d0-c2e13d267db2"
      },
      "source": [
        "train_data.head(5)"
      ],
      "execution_count": 6,
      "outputs": [
        {
          "output_type": "execute_result",
          "data": {
            "text/html": [
              "<div>\n",
              "<style scoped>\n",
              "    .dataframe tbody tr th:only-of-type {\n",
              "        vertical-align: middle;\n",
              "    }\n",
              "\n",
              "    .dataframe tbody tr th {\n",
              "        vertical-align: top;\n",
              "    }\n",
              "\n",
              "    .dataframe thead th {\n",
              "        text-align: right;\n",
              "    }\n",
              "</style>\n",
              "<table border=\"1\" class=\"dataframe\">\n",
              "  <thead>\n",
              "    <tr style=\"text-align: right;\">\n",
              "      <th></th>\n",
              "      <th>Sr No.</th>\n",
              "      <th>Utterance</th>\n",
              "      <th>Speaker</th>\n",
              "      <th>Emotion</th>\n",
              "      <th>Sentiment</th>\n",
              "      <th>Dialogue_ID</th>\n",
              "      <th>Utterance_ID</th>\n",
              "      <th>Season</th>\n",
              "      <th>Episode</th>\n",
              "      <th>StartTime</th>\n",
              "      <th>EndTime</th>\n",
              "    </tr>\n",
              "  </thead>\n",
              "  <tbody>\n",
              "    <tr>\n",
              "      <th>0</th>\n",
              "      <td>1</td>\n",
              "      <td>also I was the point person on my companys tr...</td>\n",
              "      <td>Chandler</td>\n",
              "      <td>neutral</td>\n",
              "      <td>neutral</td>\n",
              "      <td>0</td>\n",
              "      <td>0</td>\n",
              "      <td>8</td>\n",
              "      <td>21</td>\n",
              "      <td>00:16:16,059</td>\n",
              "      <td>00:16:21,731</td>\n",
              "    </tr>\n",
              "    <tr>\n",
              "      <th>1</th>\n",
              "      <td>2</td>\n",
              "      <td>You mustve had your hands full.</td>\n",
              "      <td>The Interviewer</td>\n",
              "      <td>neutral</td>\n",
              "      <td>neutral</td>\n",
              "      <td>0</td>\n",
              "      <td>1</td>\n",
              "      <td>8</td>\n",
              "      <td>21</td>\n",
              "      <td>00:16:21,940</td>\n",
              "      <td>00:16:23,442</td>\n",
              "    </tr>\n",
              "    <tr>\n",
              "      <th>2</th>\n",
              "      <td>3</td>\n",
              "      <td>That I did. That I did.</td>\n",
              "      <td>Chandler</td>\n",
              "      <td>neutral</td>\n",
              "      <td>neutral</td>\n",
              "      <td>0</td>\n",
              "      <td>2</td>\n",
              "      <td>8</td>\n",
              "      <td>21</td>\n",
              "      <td>00:16:23,442</td>\n",
              "      <td>00:16:26,389</td>\n",
              "    </tr>\n",
              "    <tr>\n",
              "      <th>3</th>\n",
              "      <td>4</td>\n",
              "      <td>So lets talk a little bit about your duties.</td>\n",
              "      <td>The Interviewer</td>\n",
              "      <td>neutral</td>\n",
              "      <td>neutral</td>\n",
              "      <td>0</td>\n",
              "      <td>3</td>\n",
              "      <td>8</td>\n",
              "      <td>21</td>\n",
              "      <td>00:16:26,820</td>\n",
              "      <td>00:16:29,572</td>\n",
              "    </tr>\n",
              "    <tr>\n",
              "      <th>4</th>\n",
              "      <td>5</td>\n",
              "      <td>My duties?  All right.</td>\n",
              "      <td>Chandler</td>\n",
              "      <td>surprise</td>\n",
              "      <td>positive</td>\n",
              "      <td>0</td>\n",
              "      <td>4</td>\n",
              "      <td>8</td>\n",
              "      <td>21</td>\n",
              "      <td>00:16:34,452</td>\n",
              "      <td>00:16:40,917</td>\n",
              "    </tr>\n",
              "  </tbody>\n",
              "</table>\n",
              "</div>"
            ],
            "text/plain": [
              "   Sr No.  ...       EndTime\n",
              "0       1  ...  00:16:21,731\n",
              "1       2  ...  00:16:23,442\n",
              "2       3  ...  00:16:26,389\n",
              "3       4  ...  00:16:29,572\n",
              "4       5  ...  00:16:40,917\n",
              "\n",
              "[5 rows x 11 columns]"
            ]
          },
          "metadata": {
            "tags": []
          },
          "execution_count": 6
        }
      ]
    },
    {
      "cell_type": "code",
      "metadata": {
        "id": "iUxOVDbuazGZ",
        "colab_type": "code",
        "colab": {
          "base_uri": "https://localhost:8080/",
          "height": 69
        },
        "outputId": "272f366f-78a0-4576-b212-a2ac2ffeb8ad"
      },
      "source": [
        "print(train_data.shape)\n",
        "print(cv_data.shape)\n",
        "print(test_data.shape)\n"
      ],
      "execution_count": 7,
      "outputs": [
        {
          "output_type": "stream",
          "text": [
            "(9989, 11)\n",
            "(1109, 11)\n",
            "(2610, 11)\n"
          ],
          "name": "stdout"
        }
      ]
    },
    {
      "cell_type": "code",
      "metadata": {
        "id": "ITeNinW_cUtU",
        "colab_type": "code",
        "colab": {
          "base_uri": "https://localhost:8080/",
          "height": 1000
        },
        "outputId": "4fec4271-1ba8-47db-bcc0-305a113f33dd"
      },
      "source": [
        "train_data.Utterance.values[:100]"
      ],
      "execution_count": 8,
      "outputs": [
        {
          "output_type": "execute_result",
          "data": {
            "text/plain": [
              "array(['also I was the point person on my company\\x92s transition from the KL-5 to GR-6 system.',\n",
              "       'You must\\x92ve had your hands full.', 'That I did. That I did.',\n",
              "       'So let\\x92s talk a little bit about your duties.',\n",
              "       'My duties?  All right.',\n",
              "       'Now you\\x92ll be heading a whole division, so you\\x92ll have a lot of duties.',\n",
              "       'I see.',\n",
              "       'But there\\x92ll be perhaps 30 people under you so you can dump a certain amount on them.',\n",
              "       'Good to know.', 'We can go into detail',\n",
              "       'No don\\x92t I beg of you!',\n",
              "       'All right then, we\\x92ll have a definite answer for you on Monday, but I think I can say with some confidence, you\\x92ll fit in well here.',\n",
              "       'Really?!', 'Absolutely.  You can relax',\n",
              "       'But then who? The waitress I went out with last month?',\n",
              "       'You know? Forget it!',\n",
              "       'No-no-no-no, no! Who, who were you talking about?',\n",
              "       \"No, I-I-I-I don't, I actually don't know\", 'Ok!',\n",
              "       'All right, well...', 'Yeah, sure!', 'Hey, Mon.',\n",
              "       'Hey-hey-hey. You wanna hear something that sucks.', 'Do I ever.',\n",
              "       'Chris says they\\x92re closing down the bar.', 'No way!',\n",
              "       'Yeah, apparently they\\x92re turning it into some kinda coffee place.',\n",
              "       'Just coffee! Where are we gonna hang out now?', 'Got me.',\n",
              "       'Can I get a beer.', 'Hey, did you pick a roommate?',\n",
              "       'You betcha!', 'Is it the Italian guy?', 'Um-mm, yeah right!',\n",
              "       'Oh my God, oh my God! Poor Monica!', 'What, what, what?!',\n",
              "       'What?!', 'He was with her when he wrote this poem.',\n",
              "       \"Look,  'My vessel so empty with nothing inside.\",\n",
              "       \"Now that I've touched you, you seem emptier still.'\",\n",
              "       'He thinks Monica is empty, she is the empty vase!',\n",
              "       'Oh, totally. Oh, God, oh, she seemed so happy too.', 'Done.',\n",
              "       'Hey!', 'Hi!', 'What are you doing here?',\n",
              "       \"Ah y'know, this building is on my paper route so I...\", 'Oh.',\n",
              "       'Hi.', 'Hi.', 'How\\x92d did it go?',\n",
              "       \"Oh well, the woman I interviewed with was pretty tough, but y'know thank God Mark coached me, because once I started talking about the fall line, she got all happy and wouldn\\x92t shut up.\",\n",
              "       'I\\x92m so proud of you.', 'Me too!',\n",
              "       'Listen, I\\x92m ah, I\\x92m sorry I\\x92ve been so crazy and jealous and, it\\x92s just that I like you a lot, so...',\n",
              "       'I know.', 'Yeah.', 'Yeah.', 'Ameri-can.', 'Ameri-ccan.',\n",
              "       \"Ameri-can. Y'know it\\x92s a\", 'Everybody!!',\n",
              "       'Good job Joe! Well done! Top notch!',\n",
              "       'You liked it? You really liked it?', 'Oh-ho-ho, yeah!',\n",
              "       'Which part exactly?', 'The whole thing! Can we go?',\n",
              "       'Oh no-no-no, give me some specifics.',\n",
              "       'I love the specifics, the specifics were the best part!',\n",
              "       'Hey, what about the scene with the kangaroo? Did-did you like that part?',\n",
              "       'I was surprised to see a kangaroo in a World War I epic.',\n",
              "       'You fell asleep!!', 'There was no kangaroo!',\n",
              "       'They didn\\x92t take any of my suggestions!',\n",
              "       'That\\x92s for coming buddy.', 'I\\x92ll see you later.',\n",
              "       'Don\\x92t go!', 'I\\x92m sorry.', 'I\\x92m so sorry!', 'Look!',\n",
              "       'This guy fell asleep!', 'He fell asleep too!', 'Be mad at him!',\n",
              "       'Or, call an ambulance.',\n",
              "       'Okay, look, I think we have to tell Rachel she messed up her dessert.',\n",
              "       'What?! What is with everybody? It\\x92s Thanksgiving, not...Truth-Day!',\n",
              "       'Yes, and it is my dying wish to have that ring.',\n",
              "       'See, if I\\x92m not buried with that ring then my spirit is going to wander the nether world for all eternity',\n",
              "       'Okay, that\\x92s enough honey!',\n",
              "       'I don\\x92t know.  Let me see the ring.', 'Great! Okay, here.',\n",
              "       'All right.', 'Thank you. Thank you. Thank you!  And',\n",
              "       \"What've you been up to?\",\n",
              "       'Oh, you know, the usual, teaching aerobics, partying way too much.',\n",
              "       'Oh, and in case you were wondering, those are my legs on the new James Bond poster.',\n",
              "       'Can you hold on a moment? I have another call.  I love her.',\n",
              "       'I know.', \"I'm back.\", 'So, are we gonna get together or what?'],\n",
              "      dtype=object)"
            ]
          },
          "metadata": {
            "tags": []
          },
          "execution_count": 8
        }
      ]
    },
    {
      "cell_type": "markdown",
      "metadata": {
        "id": "qYYguL2wPhzS",
        "colab_type": "text"
      },
      "source": [
        "Preprocessing dataset"
      ]
    },
    {
      "cell_type": "code",
      "metadata": {
        "id": "tj3yc21tf0dv",
        "colab_type": "code",
        "colab": {}
      },
      "source": [
        "import re"
      ],
      "execution_count": 9,
      "outputs": []
    },
    {
      "cell_type": "code",
      "metadata": {
        "id": "ZFZ1i33YyGkW",
        "colab_type": "code",
        "colab": {}
      },
      "source": [
        "def preprocess(sentence):\n",
        "    sentence = sentence.lower()\n",
        "    sentence = re.sub(r\"\\x92\", \"'\",sentence)\n",
        "    sentence = re.sub(r'[0-9\\.]+', '',sentence)\n",
        "    sentence = re.sub(r'\\-',' ',sentence)\n",
        "    sentence = re.sub(r' +', ' ',sentence)\n",
        "    sentence = re.sub(r'[?!,.]','',sentence)\n",
        "    sentence = re.sub(r\"y'know\",'you know',sentence)\n",
        "    sentence = re.sub(r\"\\'t\", \" not\", sentence)\n",
        "    sentence = re.sub(r\"\\'re\", \" are\", sentence)\n",
        "    sentence = re.sub(r\"\\'s\", \" is\", sentence)\n",
        "    sentence = re.sub(r\"\\'d\", \" would\", sentence)\n",
        "    sentence = re.sub(r\"\\'ll\", \" will\", sentence)\n",
        "    sentence = re.sub(r\"\\'t\", \" not\", sentence)\n",
        "    sentence = re.sub(r\"\\'ve\", \" have\", sentence)\n",
        "    sentence = re.sub(r\"\\'m\", \" am\", sentence)\n",
        "    return sentence"
      ],
      "execution_count": 10,
      "outputs": []
    },
    {
      "cell_type": "markdown",
      "metadata": {
        "id": "qRTFnoSRPmHI",
        "colab_type": "text"
      },
      "source": [
        "I have not removed the stop words from data because many of the neutral utterance contains stop word only."
      ]
    },
    {
      "cell_type": "code",
      "metadata": {
        "id": "zELETOChaCkl",
        "colab_type": "code",
        "colab": {}
      },
      "source": [
        "from tqdm import notebook"
      ],
      "execution_count": 11,
      "outputs": []
    },
    {
      "cell_type": "markdown",
      "metadata": {
        "id": "1-y-r3_QP9rr",
        "colab_type": "text"
      },
      "source": [
        "preprocess train"
      ]
    },
    {
      "cell_type": "code",
      "metadata": {
        "id": "b89srx7HWNCQ",
        "colab_type": "code",
        "colab": {
          "base_uri": "https://localhost:8080/",
          "height": 66,
          "referenced_widgets": [
            "a1e100feb1454476bff516c49ad86fbf",
            "0ef81ff92dd14f6d84dcc6c54e803a44",
            "ca8c5bf585324f99824e365f57c9c85e",
            "ebd8579e5dd94aff88134730ec1203a5",
            "0fc85830e6fe4a91ae124a4da2d9dba3",
            "45bb2bad05364e5c914d9881fd7fb544",
            "3d5958693cfd4c6ebdb3d308a1d57a87",
            "8516927804414bea8f380c38e07aa9e3"
          ]
        },
        "outputId": "feb3bb1d-9161-4d34-d3c0-a384f3714cf1"
      },
      "source": [
        "new_train=[]\n",
        "for i in notebook.tqdm(train_data.Utterance.values):\n",
        "  new_train.append(preprocess(i))\n",
        "train_data['P_Utterance']=new_train"
      ],
      "execution_count": 12,
      "outputs": [
        {
          "output_type": "display_data",
          "data": {
            "application/vnd.jupyter.widget-view+json": {
              "model_id": "a1e100feb1454476bff516c49ad86fbf",
              "version_minor": 0,
              "version_major": 2
            },
            "text/plain": [
              "HBox(children=(FloatProgress(value=0.0, max=9989.0), HTML(value='')))"
            ]
          },
          "metadata": {
            "tags": []
          }
        },
        {
          "output_type": "stream",
          "text": [
            "\n"
          ],
          "name": "stdout"
        }
      ]
    },
    {
      "cell_type": "code",
      "metadata": {
        "id": "-Q-huNhtaMSN",
        "colab_type": "code",
        "colab": {
          "base_uri": "https://localhost:8080/",
          "height": 1000
        },
        "outputId": "b3da635e-f1d5-424c-9fd8-43975e443ab7"
      },
      "source": [
        "train_data['P_Utterance'].values[:100]"
      ],
      "execution_count": 13,
      "outputs": [
        {
          "output_type": "execute_result",
          "data": {
            "text/plain": [
              "array(['also i was the point person on my company is transition from the kl to gr system',\n",
              "       'you must have had your hands full', 'that i did that i did',\n",
              "       'so let is talk a little bit about your duties',\n",
              "       'my duties all right',\n",
              "       'now you will be heading a whole division so you will have a lot of duties',\n",
              "       'i see',\n",
              "       'but there will be perhaps people under you so you can dump a certain amount on them',\n",
              "       'good to know', 'we can go into detail', 'no don not i beg of you',\n",
              "       'all right then we will have a definite answer for you on monday but i think i can say with some confidence you will fit in well here',\n",
              "       'really', 'absolutely you can relax',\n",
              "       'but then who the waitress i went out with last month',\n",
              "       'you know forget it',\n",
              "       'no no no no no who who were you talking about',\n",
              "       'no i i i i don not i actually don not know', 'ok',\n",
              "       'all right well', 'yeah sure', 'hey mon',\n",
              "       'hey hey hey you wanna hear something that sucks', 'do i ever',\n",
              "       'chris says they are closing down the bar', 'no way',\n",
              "       'yeah apparently they are turning it into some kinda coffee place',\n",
              "       'just coffee where are we gonna hang out now', 'got me',\n",
              "       'can i get a beer', 'hey did you pick a roommate', 'you betcha',\n",
              "       'is it the italian guy', 'um mm yeah right',\n",
              "       'oh my god oh my god poor monica', 'what what what', 'what',\n",
              "       'he was with her when he wrote this poem',\n",
              "       'look  amy vessel so empty with nothing inside',\n",
              "       \"now that i have touched you you seem emptier still'\",\n",
              "       'he thinks monica is empty she is the empty vase',\n",
              "       'oh totally oh god oh she seemed so happy too', 'done', 'hey',\n",
              "       'hi', 'what are you doing here',\n",
              "       'ah you know this building is on my paper route so i', 'oh', 'hi',\n",
              "       'hi', 'how would did it go',\n",
              "       'oh well the woman i interviewed with was pretty tough but you know thank god mark coached me because once i started talking about the fall line she got all happy and wouldn not shut up',\n",
              "       'i am so proud of you', 'me too',\n",
              "       'listen i am ah i am sorry i have been so crazy and jealous and it is just that i like you a lot so',\n",
              "       'i know', 'yeah', 'yeah', 'ameri can', 'ameri ccan',\n",
              "       'ameri can you know it is a', 'everybody',\n",
              "       'good job joe well done top notch',\n",
              "       'you liked it you really liked it', 'oh ho ho yeah',\n",
              "       'which part exactly', 'the whole thing can we go',\n",
              "       'oh no no no give me some specifics',\n",
              "       'i love the specifics the specifics were the best part',\n",
              "       'hey what about the scene with the kangaroo did did you like that part',\n",
              "       'i was surprised to see a kangaroo in a world war i epic',\n",
              "       'you fell asleep', 'there was no kangaroo',\n",
              "       'they didn not take any of my suggestions',\n",
              "       'that is for coming buddy', 'i will see you later', 'don not go',\n",
              "       'i am sorry', 'i am so sorry', 'look', 'this guy fell asleep',\n",
              "       'he fell asleep too', 'be mad at him', 'or call an ambulance',\n",
              "       'okay look i think we have to tell rachel she messed up her dessert',\n",
              "       'what what is with everybody it is thanksgiving nottruth day',\n",
              "       'yes and it is my dying wish to have that ring',\n",
              "       'see if i am not buried with that ring then my spirit is going to wander the nether world for all eternity',\n",
              "       'okay that is enough honey', 'i don not know let me see the ring',\n",
              "       'great okay here', 'all right',\n",
              "       'thank you thank you thank you and', 'what have you been up to',\n",
              "       'oh you know the usual teaching aerobics partying way too much',\n",
              "       'oh and in case you were wondering those are my legs on the new james bond poster',\n",
              "       'can you hold on a moment i have another call i love her',\n",
              "       'i know', 'i am back', 'so are we gonna get together or what'],\n",
              "      dtype=object)"
            ]
          },
          "metadata": {
            "tags": []
          },
          "execution_count": 13
        }
      ]
    },
    {
      "cell_type": "markdown",
      "metadata": {
        "id": "WQvqy8YwQAjo",
        "colab_type": "text"
      },
      "source": [
        "preprocess cv"
      ]
    },
    {
      "cell_type": "code",
      "metadata": {
        "id": "CYCzAVJ1avXw",
        "colab_type": "code",
        "colab": {
          "base_uri": "https://localhost:8080/",
          "height": 66,
          "referenced_widgets": [
            "d1992c82e5704f7b94b1d513aadf2bd7",
            "b6acb96254c443108b7f6e9a96956e10",
            "a5ce5aec7c074f92ada269f3f351e635",
            "fa0cdce9cb3f44a5a669698935ca686d",
            "e61f1e1f7fda4829befaf278fbafeb8a",
            "1737034400894f5691201a3a5de60c85",
            "ddbeb38b6f12496eb218e9db75a7124b",
            "92a3215062e14a02adfe2bcae7232fc5"
          ]
        },
        "outputId": "81cb7d56-05d9-470a-fa29-b742f8f484f5"
      },
      "source": [
        "new_cv=[]\n",
        "for i in notebook.tqdm(cv_data.Utterance.values):\n",
        "  new_cv.append(preprocess(i))\n",
        "cv_data['P_Utterance']=new_cv"
      ],
      "execution_count": 14,
      "outputs": [
        {
          "output_type": "display_data",
          "data": {
            "application/vnd.jupyter.widget-view+json": {
              "model_id": "d1992c82e5704f7b94b1d513aadf2bd7",
              "version_minor": 0,
              "version_major": 2
            },
            "text/plain": [
              "HBox(children=(FloatProgress(value=0.0, max=1109.0), HTML(value='')))"
            ]
          },
          "metadata": {
            "tags": []
          }
        },
        {
          "output_type": "stream",
          "text": [
            "\n"
          ],
          "name": "stdout"
        }
      ]
    },
    {
      "cell_type": "markdown",
      "metadata": {
        "id": "Jh4Zt3sFQDJY",
        "colab_type": "text"
      },
      "source": [
        "preprocess test"
      ]
    },
    {
      "cell_type": "code",
      "metadata": {
        "id": "494PTRp1b4PP",
        "colab_type": "code",
        "colab": {
          "base_uri": "https://localhost:8080/",
          "height": 66,
          "referenced_widgets": [
            "b0328492807140fe8f9cd187d08bc1e5",
            "7129b7920dd044e99892c660a067a72a",
            "232fe4dba5e94332918014b3642f2f7e",
            "aca13e25018b4823826abb4eadf4ff2b",
            "73c3270e4e414e37896a6166ff0d7df9",
            "1fe7ed81f81c4048861fe8ee7dbd4c1a",
            "2df7b88097284a2a9a0ef10d98705971",
            "9dd4442b4ee4492ca467fc5e96dad01d"
          ]
        },
        "outputId": "465dd6e9-5373-4f98-f6ff-eeca8648d634"
      },
      "source": [
        "new_test=[]\n",
        "for i in notebook.tqdm(test_data.Utterance.values):\n",
        "  new_test.append(preprocess(i))\n",
        "test_data['P_Utterance']=new_test"
      ],
      "execution_count": 15,
      "outputs": [
        {
          "output_type": "display_data",
          "data": {
            "application/vnd.jupyter.widget-view+json": {
              "model_id": "b0328492807140fe8f9cd187d08bc1e5",
              "version_minor": 0,
              "version_major": 2
            },
            "text/plain": [
              "HBox(children=(FloatProgress(value=0.0, max=2610.0), HTML(value='')))"
            ]
          },
          "metadata": {
            "tags": []
          }
        },
        {
          "output_type": "stream",
          "text": [
            "\n"
          ],
          "name": "stdout"
        }
      ]
    },
    {
      "cell_type": "code",
      "metadata": {
        "id": "2cE10HzSeHSU",
        "colab_type": "code",
        "colab": {
          "base_uri": "https://localhost:8080/",
          "height": 279
        },
        "outputId": "87501711-16e3-4e5a-bb02-977d08a82447"
      },
      "source": [
        "sn = sns.countplot(x=train_data['Emotion'], data=train_data)"
      ],
      "execution_count": 16,
      "outputs": [
        {
          "output_type": "display_data",
          "data": {
            "image/png": "[encoded data removed]",
            "text/plain": [
              "<Figure size 432x288 with 1 Axes>"
            ]
          },
          "metadata": {
            "tags": [],
            "needs_background": "light"
          }
        }
      ]
    },
    {
      "cell_type": "code",
      "metadata": {
        "id": "Sn9fPdJheHOK",
        "colab_type": "code",
        "colab": {
          "base_uri": "https://localhost:8080/",
          "height": 279
        },
        "outputId": "147146ac-f517-4a4c-9d3a-aa4b7c4dee44"
      },
      "source": [
        "sn = sns.countplot(x=cv_data['Emotion'], data=cv_data)"
      ],
      "execution_count": 17,
      "outputs": [
        {
          "output_type": "display_data",
          "data": {
            "image/png": "[encoded data removed]",
            "text/plain": [
              "<Figure size 432x288 with 1 Axes>"
            ]
          },
          "metadata": {
            "tags": [],
            "needs_background": "light"
          }
        }
      ]
    },
    {
      "cell_type": "code",
      "metadata": {
        "id": "kKfsRc_reHLI",
        "colab_type": "code",
        "colab": {
          "base_uri": "https://localhost:8080/",
          "height": 279
        },
        "outputId": "9c68c3ee-dc65-461e-f778-d295c4c5b22d"
      },
      "source": [
        "sn = sns.countplot(x=test_data['Emotion'], data=test_data)"
      ],
      "execution_count": 18,
      "outputs": [
        {
          "output_type": "display_data",
          "data": {
            "image/png": "[encoded data removed]",
            "text/plain": [
              "<Figure size 432x288 with 1 Axes>"
            ]
          },
          "metadata": {
            "tags": [],
            "needs_background": "light"
          }
        }
      ]
    },
    {
      "cell_type": "markdown",
      "metadata": {
        "id": "5T_tw50dQIC-",
        "colab_type": "text"
      },
      "source": [
        "In all the plots we can see that the data is highly imbalanced with most classes are neutral"
      ]
    },
    {
      "cell_type": "code",
      "metadata": {
        "id": "HLQwTQuaeHHG",
        "colab_type": "code",
        "colab": {}
      },
      "source": [
        "s_len=[]\n",
        "for i in train_data['P_Utterance'].values:\n",
        "  word = i.split()\n",
        "  s_len.append(len(word))\n"
      ],
      "execution_count": 19,
      "outputs": []
    },
    {
      "cell_type": "code",
      "metadata": {
        "id": "TQ0uoWtFjQYd",
        "colab_type": "code",
        "colab": {
          "base_uri": "https://localhost:8080/",
          "height": 34
        },
        "outputId": "a96425ab-6329-49e1-95f9-fdca7f4c8dec"
      },
      "source": [
        "max(s_len)"
      ],
      "execution_count": 20,
      "outputs": [
        {
          "output_type": "execute_result",
          "data": {
            "text/plain": [
              "72"
            ]
          },
          "metadata": {
            "tags": []
          },
          "execution_count": 20
        }
      ]
    },
    {
      "cell_type": "markdown",
      "metadata": {
        "id": "EYCYMrirQemP",
        "colab_type": "text"
      },
      "source": [
        "Maximum length of utterance is 72"
      ]
    },
    {
      "cell_type": "code",
      "metadata": {
        "id": "0biqtWxPjhS3",
        "colab_type": "code",
        "colab": {
          "base_uri": "https://localhost:8080/",
          "height": 34
        },
        "outputId": "f9f37062-3b04-4800-82fe-18dd1c4feda6"
      },
      "source": [
        "min(s_len)"
      ],
      "execution_count": 21,
      "outputs": [
        {
          "output_type": "execute_result",
          "data": {
            "text/plain": [
              "0"
            ]
          },
          "metadata": {
            "tags": []
          },
          "execution_count": 21
        }
      ]
    },
    {
      "cell_type": "markdown",
      "metadata": {
        "id": "6Ec3jjBDQjCH",
        "colab_type": "text"
      },
      "source": [
        "Minimum length of utterance is 0"
      ]
    },
    {
      "cell_type": "code",
      "metadata": {
        "id": "B8d0PZIEjhOo",
        "colab_type": "code",
        "colab": {
          "base_uri": "https://localhost:8080/",
          "height": 34
        },
        "outputId": "d022d725-37b3-45dc-d866-9b16e2a3ace5"
      },
      "source": [
        "sum(s_len)/9989"
      ],
      "execution_count": 22,
      "outputs": [
        {
          "output_type": "execute_result",
          "data": {
            "text/plain": [
              "8.581940134147562"
            ]
          },
          "metadata": {
            "tags": []
          },
          "execution_count": 22
        }
      ]
    },
    {
      "cell_type": "markdown",
      "metadata": {
        "id": "ujc72kfdQnwS",
        "colab_type": "text"
      },
      "source": [
        "Avg length of utterance is 8"
      ]
    },
    {
      "cell_type": "code",
      "metadata": {
        "id": "4fWG4vXwjg9c",
        "colab_type": "code",
        "colab": {}
      },
      "source": [
        "count = 0\n",
        "for i in s_len : \n",
        "    if i > 50 : \n",
        "        count = count + 1"
      ],
      "execution_count": 23,
      "outputs": []
    },
    {
      "cell_type": "code",
      "metadata": {
        "id": "p0B7Hyx8kgBN",
        "colab_type": "code",
        "colab": {
          "base_uri": "https://localhost:8080/",
          "height": 34
        },
        "outputId": "522ad848-7d25-49d9-a345-41ec2a06a697"
      },
      "source": [
        "count"
      ],
      "execution_count": 24,
      "outputs": [
        {
          "output_type": "execute_result",
          "data": {
            "text/plain": [
              "1"
            ]
          },
          "metadata": {
            "tags": []
          },
          "execution_count": 24
        }
      ]
    },
    {
      "cell_type": "markdown",
      "metadata": {
        "id": "z2RUx2x1QxmZ",
        "colab_type": "text"
      },
      "source": [
        "Here we can see that only 1 utterence length is more then 50 so remove it."
      ]
    },
    {
      "cell_type": "code",
      "metadata": {
        "id": "-jJoDrcHdtEB",
        "colab_type": "code",
        "colab": {}
      },
      "source": [
        "s_len=[]\n",
        "c=0\n",
        "X_new = train_data\n",
        "for i in train_data['P_Utterance']:\n",
        "  word = i.split()\n",
        "  c +=1\n",
        "  if(len(word)==0 or len(word)>50):\n",
        "    X_new=X_new.drop(X_new.index[c])\n",
        "  "
      ],
      "execution_count": 25,
      "outputs": []
    },
    {
      "cell_type": "code",
      "metadata": {
        "id": "d3lqCy8vorjK",
        "colab_type": "code",
        "colab": {
          "base_uri": "https://localhost:8080/",
          "height": 34
        },
        "outputId": "673e88a9-7916-4476-93ed-36750fe24a94"
      },
      "source": [
        "train_data.shape[0] - X_new.shape[0]"
      ],
      "execution_count": 26,
      "outputs": [
        {
          "output_type": "execute_result",
          "data": {
            "text/plain": [
              "4"
            ]
          },
          "metadata": {
            "tags": []
          },
          "execution_count": 26
        }
      ]
    },
    {
      "cell_type": "markdown",
      "metadata": {
        "id": "uGC3f372Q_iA",
        "colab_type": "text"
      },
      "source": [
        "There are 4 utterence with 0 or more then 50 length and we have removed them"
      ]
    },
    {
      "cell_type": "code",
      "metadata": {
        "id": "itNoSQO-qLGZ",
        "colab_type": "code",
        "colab": {}
      },
      "source": [
        "X_new = X_new.reset_index()"
      ],
      "execution_count": 27,
      "outputs": []
    },
    {
      "cell_type": "code",
      "metadata": {
        "id": "GDEfqLVfqtcJ",
        "colab_type": "code",
        "colab": {
          "base_uri": "https://localhost:8080/",
          "height": 965
        },
        "outputId": "497aa651-0b12-4b5e-e33c-6e7e4ff71525"
      },
      "source": [
        "X_new"
      ],
      "execution_count": 28,
      "outputs": [
        {
          "output_type": "execute_result",
          "data": {
            "text/html": [
              "<div>\n",
              "<style scoped>\n",
              "    .dataframe tbody tr th:only-of-type {\n",
              "        vertical-align: middle;\n",
              "    }\n",
              "\n",
              "    .dataframe tbody tr th {\n",
              "        vertical-align: top;\n",
              "    }\n",
              "\n",
              "    .dataframe thead th {\n",
              "        text-align: right;\n",
              "    }\n",
              "</style>\n",
              "<table border=\"1\" class=\"dataframe\">\n",
              "  <thead>\n",
              "    <tr style=\"text-align: right;\">\n",
              "      <th></th>\n",
              "      <th>index</th>\n",
              "      <th>Sr No.</th>\n",
              "      <th>Utterance</th>\n",
              "      <th>Speaker</th>\n",
              "      <th>Emotion</th>\n",
              "      <th>Sentiment</th>\n",
              "      <th>Dialogue_ID</th>\n",
              "      <th>Utterance_ID</th>\n",
              "      <th>Season</th>\n",
              "      <th>Episode</th>\n",
              "      <th>StartTime</th>\n",
              "      <th>EndTime</th>\n",
              "      <th>P_Utterance</th>\n",
              "    </tr>\n",
              "  </thead>\n",
              "  <tbody>\n",
              "    <tr>\n",
              "      <th>0</th>\n",
              "      <td>0</td>\n",
              "      <td>1</td>\n",
              "      <td>also I was the point person on my companys tr...</td>\n",
              "      <td>Chandler</td>\n",
              "      <td>neutral</td>\n",
              "      <td>neutral</td>\n",
              "      <td>0</td>\n",
              "      <td>0</td>\n",
              "      <td>8</td>\n",
              "      <td>21</td>\n",
              "      <td>00:16:16,059</td>\n",
              "      <td>00:16:21,731</td>\n",
              "      <td>also i was the point person on my company is t...</td>\n",
              "    </tr>\n",
              "    <tr>\n",
              "      <th>1</th>\n",
              "      <td>1</td>\n",
              "      <td>2</td>\n",
              "      <td>You mustve had your hands full.</td>\n",
              "      <td>The Interviewer</td>\n",
              "      <td>neutral</td>\n",
              "      <td>neutral</td>\n",
              "      <td>0</td>\n",
              "      <td>1</td>\n",
              "      <td>8</td>\n",
              "      <td>21</td>\n",
              "      <td>00:16:21,940</td>\n",
              "      <td>00:16:23,442</td>\n",
              "      <td>you must have had your hands full</td>\n",
              "    </tr>\n",
              "    <tr>\n",
              "      <th>2</th>\n",
              "      <td>2</td>\n",
              "      <td>3</td>\n",
              "      <td>That I did. That I did.</td>\n",
              "      <td>Chandler</td>\n",
              "      <td>neutral</td>\n",
              "      <td>neutral</td>\n",
              "      <td>0</td>\n",
              "      <td>2</td>\n",
              "      <td>8</td>\n",
              "      <td>21</td>\n",
              "      <td>00:16:23,442</td>\n",
              "      <td>00:16:26,389</td>\n",
              "      <td>that i did that i did</td>\n",
              "    </tr>\n",
              "    <tr>\n",
              "      <th>3</th>\n",
              "      <td>3</td>\n",
              "      <td>4</td>\n",
              "      <td>So lets talk a little bit about your duties.</td>\n",
              "      <td>The Interviewer</td>\n",
              "      <td>neutral</td>\n",
              "      <td>neutral</td>\n",
              "      <td>0</td>\n",
              "      <td>3</td>\n",
              "      <td>8</td>\n",
              "      <td>21</td>\n",
              "      <td>00:16:26,820</td>\n",
              "      <td>00:16:29,572</td>\n",
              "      <td>so let is talk a little bit about your duties</td>\n",
              "    </tr>\n",
              "    <tr>\n",
              "      <th>4</th>\n",
              "      <td>4</td>\n",
              "      <td>5</td>\n",
              "      <td>My duties?  All right.</td>\n",
              "      <td>Chandler</td>\n",
              "      <td>surprise</td>\n",
              "      <td>positive</td>\n",
              "      <td>0</td>\n",
              "      <td>4</td>\n",
              "      <td>8</td>\n",
              "      <td>21</td>\n",
              "      <td>00:16:34,452</td>\n",
              "      <td>00:16:40,917</td>\n",
              "      <td>my duties all right</td>\n",
              "    </tr>\n",
              "    <tr>\n",
              "      <th>...</th>\n",
              "      <td>...</td>\n",
              "      <td>...</td>\n",
              "      <td>...</td>\n",
              "      <td>...</td>\n",
              "      <td>...</td>\n",
              "      <td>...</td>\n",
              "      <td>...</td>\n",
              "      <td>...</td>\n",
              "      <td>...</td>\n",
              "      <td>...</td>\n",
              "      <td>...</td>\n",
              "      <td>...</td>\n",
              "      <td>...</td>\n",
              "    </tr>\n",
              "    <tr>\n",
              "      <th>9980</th>\n",
              "      <td>9984</td>\n",
              "      <td>10474</td>\n",
              "      <td>You or me?</td>\n",
              "      <td>Chandler</td>\n",
              "      <td>neutral</td>\n",
              "      <td>neutral</td>\n",
              "      <td>1038</td>\n",
              "      <td>13</td>\n",
              "      <td>2</td>\n",
              "      <td>3</td>\n",
              "      <td>00:00:48,173</td>\n",
              "      <td>00:00:50,799</td>\n",
              "      <td>you or me</td>\n",
              "    </tr>\n",
              "    <tr>\n",
              "      <th>9981</th>\n",
              "      <td>9985</td>\n",
              "      <td>10475</td>\n",
              "      <td>I got it. Uh, Joey, women don't have Adam's ap...</td>\n",
              "      <td>Ross</td>\n",
              "      <td>neutral</td>\n",
              "      <td>neutral</td>\n",
              "      <td>1038</td>\n",
              "      <td>14</td>\n",
              "      <td>2</td>\n",
              "      <td>3</td>\n",
              "      <td>00:00:51,009</td>\n",
              "      <td>00:00:53,594</td>\n",
              "      <td>i got it uh joey women don not have adam is ap...</td>\n",
              "    </tr>\n",
              "    <tr>\n",
              "      <th>9982</th>\n",
              "      <td>9986</td>\n",
              "      <td>10476</td>\n",
              "      <td>You guys are messing with me, right?</td>\n",
              "      <td>Joey</td>\n",
              "      <td>surprise</td>\n",
              "      <td>positive</td>\n",
              "      <td>1038</td>\n",
              "      <td>15</td>\n",
              "      <td>2</td>\n",
              "      <td>3</td>\n",
              "      <td>00:01:00,518</td>\n",
              "      <td>00:01:03,520</td>\n",
              "      <td>you guys are messing with me right</td>\n",
              "    </tr>\n",
              "    <tr>\n",
              "      <th>9983</th>\n",
              "      <td>9987</td>\n",
              "      <td>10477</td>\n",
              "      <td>Yeah.</td>\n",
              "      <td>All</td>\n",
              "      <td>neutral</td>\n",
              "      <td>neutral</td>\n",
              "      <td>1038</td>\n",
              "      <td>16</td>\n",
              "      <td>2</td>\n",
              "      <td>3</td>\n",
              "      <td>00:01:05,398</td>\n",
              "      <td>00:01:07,274</td>\n",
              "      <td>yeah</td>\n",
              "    </tr>\n",
              "    <tr>\n",
              "      <th>9984</th>\n",
              "      <td>9988</td>\n",
              "      <td>10478</td>\n",
              "      <td>That was a good one. For a second there, I was...</td>\n",
              "      <td>Joey</td>\n",
              "      <td>joy</td>\n",
              "      <td>positive</td>\n",
              "      <td>1038</td>\n",
              "      <td>17</td>\n",
              "      <td>2</td>\n",
              "      <td>3</td>\n",
              "      <td>00:01:08,401</td>\n",
              "      <td>00:01:12,071</td>\n",
              "      <td>that was a good one for a second there i was l...</td>\n",
              "    </tr>\n",
              "  </tbody>\n",
              "</table>\n",
              "<p>9985 rows × 13 columns</p>\n",
              "</div>"
            ],
            "text/plain": [
              "      index  ...                                        P_Utterance\n",
              "0         0  ...  also i was the point person on my company is t...\n",
              "1         1  ...                  you must have had your hands full\n",
              "2         2  ...                              that i did that i did\n",
              "3         3  ...      so let is talk a little bit about your duties\n",
              "4         4  ...                                my duties all right\n",
              "...     ...  ...                                                ...\n",
              "9980   9984  ...                                          you or me\n",
              "9981   9985  ...  i got it uh joey women don not have adam is ap...\n",
              "9982   9986  ...                 you guys are messing with me right\n",
              "9983   9987  ...                                               yeah\n",
              "9984   9988  ...  that was a good one for a second there i was l...\n",
              "\n",
              "[9985 rows x 13 columns]"
            ]
          },
          "metadata": {
            "tags": []
          },
          "execution_count": 28
        }
      ]
    },
    {
      "cell_type": "code",
      "metadata": {
        "id": "R6_vPLI8qvyP",
        "colab_type": "code",
        "colab": {}
      },
      "source": [
        "X_train = X_new.P_Utterance\n",
        "Y_train = X_new.Emotion\n",
        "X_cv = cv_data.P_Utterance\n",
        "Y_cv = cv_data.Emotion\n",
        "X_test = test_data.P_Utterance\n",
        "Y_test = test_data.Emotion"
      ],
      "execution_count": 29,
      "outputs": []
    },
    {
      "cell_type": "markdown",
      "metadata": {
        "id": "Jm5soh3qRPZR",
        "colab_type": "text"
      },
      "source": [
        "Creating the vocabulary of utterance words and padding the sentences "
      ]
    },
    {
      "cell_type": "code",
      "metadata": {
        "id": "GPJpNUv_tCpq",
        "colab_type": "code",
        "colab": {}
      },
      "source": [
        "t = Tokenizer()\n",
        "t.fit_on_texts(X_train)\n",
        "vocab_size = len(t.word_index) + 1 # for index zero we have to add +1  \n",
        "encoded_docs_train = t.texts_to_sequences(X_train)\n",
        "encoded_docs_test = t.texts_to_sequences(X_test)\n",
        "encoded_docs_cv = t.texts_to_sequences(X_cv)\n",
        "max_length = 50\n",
        "padded_docs_train = pad_sequences(encoded_docs_train, maxlen=max_length, padding='post')\n",
        "padded_docs_test = pad_sequences(encoded_docs_test, maxlen=max_length, padding='post')\n",
        "padded_docs_cv = pad_sequences(encoded_docs_cv, maxlen=max_length, padding='post')\n"
      ],
      "execution_count": 31,
      "outputs": []
    },
    {
      "cell_type": "code",
      "metadata": {
        "id": "UTr1FuTPHptV",
        "colab_type": "code",
        "colab": {}
      },
      "source": [
        "with open('tokenizer.pickle', 'wb') as handle:\n",
        "    pickle.dump(t, handle)\n",
        "\n",
        "with open('tokenizer.pickle', 'rb') as handle:\n",
        "    b = pickle.load(handle)\n"
      ],
      "execution_count": 110,
      "outputs": []
    },
    {
      "cell_type": "markdown",
      "metadata": {
        "id": "u3XQGw8HRsua",
        "colab_type": "text"
      },
      "source": [
        "Dowload glove vectors"
      ]
    },
    {
      "cell_type": "code",
      "metadata": {
        "id": "-bfmw1uYtZWS",
        "colab_type": "code",
        "colab": {
          "base_uri": "https://localhost:8080/",
          "height": 228
        },
        "outputId": "2666ee7e-fce3-40ee-bf84-6f105f9b678c"
      },
      "source": [
        "!wget --header=\"Host: storage.googleapis.com\" --header=\"User-Agent: Mozilla/5.0 (X11; Linux x86_64) AppleWebKit/537.36 (KHTML, like Gecko) Chrome/83.0.4103.97 Safari/537.36\" --header=\"Accept: text/html,application/xhtml+xml,application/xml;q=0.9,image/webp,image/apng,*/*;q=0.8,application/signed-exchange;v=b3;q=0.9\" --header=\"Accept-Language: en-IN,en-GB;q=0.9,en-US;q=0.8,en;q=0.7\" --header=\"Referer: https://www.kaggle.com/\" \"https://storage.googleapis.com/kaggle-data-sets/213609%2F464671%2Fbundle%2Farchive.zip?GoogleAccessId=gcp-kaggle-com@kaggle-161607.iam.gserviceaccount.com&Expires=1594643593&Signature=lwFPfhbKHiEL%2B0hmLCj8zFQOEtcmfuky78mUA4ouZi2w2bjBeqp3lyMXFkO50r00aD%2BefqbsR1j4BAAhxlfde47BscrI0cY1iweA4m7j5H72Jto5oqKmzpOaMKC%2FrSIQ5%2BikNtP%2BBgC2xayo94xhQLgwJUN8XTwD%2BACPMKuUXWLQMjh1H2orq8Q%2F9cpo2CrVAA4phaksewmn%2FxNGGOUML2E22cU60j6Hy7TwrrOoZImeiz%2FI3igsfBypX89AWVhT5yyGIFO%2BC1ag1gUQdMoYKdcXrpGeMi2Dn%2BwH21BZSdXbNHr8AspWBGXYkM1MY0u19qz7PM0x92HRVet%2BA2YV%2FQ%3D%3D\" -c -O '213609_464671_bundle_archive.zip'"
      ],
      "execution_count": 32,
      "outputs": [
        {
          "output_type": "stream",
          "text": [
            "--2020-07-11 02:45:29--  https://storage.googleapis.com/kaggle-data-sets/213609%2F464671%2Fbundle%2Farchive.zip?GoogleAccessId=gcp-kaggle-com@kaggle-161607.iam.gserviceaccount.com&Expires=1594643593&Signature=lwFPfhbKHiEL%2B0hmLCj8zFQOEtcmfuky78mUA4ouZi2w2bjBeqp3lyMXFkO50r00aD%2BefqbsR1j4BAAhxlfde47BscrI0cY1iweA4m7j5H72Jto5oqKmzpOaMKC%2FrSIQ5%2BikNtP%2BBgC2xayo94xhQLgwJUN8XTwD%2BACPMKuUXWLQMjh1H2orq8Q%2F9cpo2CrVAA4phaksewmn%2FxNGGOUML2E22cU60j6Hy7TwrrOoZImeiz%2FI3igsfBypX89AWVhT5yyGIFO%2BC1ag1gUQdMoYKdcXrpGeMi2Dn%2BwH21BZSdXbNHr8AspWBGXYkM1MY0u19qz7PM0x92HRVet%2BA2YV%2FQ%3D%3D\n",
            "Resolving storage.googleapis.com (storage.googleapis.com)... 172.217.193.128, 172.217.204.128, 172.217.203.128, ...\n",
            "Connecting to storage.googleapis.com (storage.googleapis.com)|172.217.193.128|:443... connected.\n",
            "HTTP request sent, awaiting response... 200 OK\n",
            "Length: 1928408067 (1.8G) [application/zip]\n",
            "Saving to: ‘213609_464671_bundle_archive.zip’\n",
            "\n",
            "213609_464671_bundl 100%[===================>]   1.80G   139MB/s    in 15s     \n",
            "\n",
            "2020-07-11 02:45:44 (120 MB/s) - ‘213609_464671_bundle_archive.zip’ saved [1928408067/1928408067]\n",
            "\n"
          ],
          "name": "stdout"
        }
      ]
    },
    {
      "cell_type": "code",
      "metadata": {
        "id": "j-t3il05uPkP",
        "colab_type": "code",
        "colab": {
          "base_uri": "https://localhost:8080/",
          "height": 52
        },
        "outputId": "da41a1a2-e732-4fd1-8c0e-1488979d54be"
      },
      "source": [
        "!unzip /content/213609_464671_bundle_archive.zip"
      ],
      "execution_count": 33,
      "outputs": [
        {
          "output_type": "stream",
          "text": [
            "Archive:  /content/213609_464671_bundle_archive.zip\n",
            "  inflating: glove.42B.300d.txt      \n"
          ],
          "name": "stdout"
        }
      ]
    },
    {
      "cell_type": "code",
      "metadata": {
        "id": "7-4dXvoNt3p8",
        "colab_type": "code",
        "colab": {
          "base_uri": "https://localhost:8080/",
          "height": 138,
          "referenced_widgets": [
            "74122138243141e6887f7beb89918e85",
            "09c2e61ab2c242fc9b3dfdffd71353ef",
            "9a962572589e4a11ae24b7a02f3be44b",
            "2617538254b84bd3909012b24071f298",
            "69c5e10dd0ae48d6a8b1ec9528d2e4c6",
            "dae2f1b6cf4b4c48840bdb35bd0acc96",
            "1863dbb91556491bb02189df8d7b4ec4",
            "ca3a3de2930a4c1da2f66fcd43208a4c"
          ]
        },
        "outputId": "fad15c6c-8405-4e05-b1bc-3e4e80f202d1"
      },
      "source": [
        "from numpy import asarray\n",
        "from tqdm import tqdm_notebook\n",
        "embeddings_index = dict()\n",
        "f = open('glove.42B.300d.txt')\n",
        "for line in tqdm_notebook(f):\n",
        "  values = line.split()\n",
        "  word = values[0]\n",
        "  coefs = asarray(values[1:], dtype='float32')\n",
        "  embeddings_index[word] = coefs\n",
        "f.close()"
      ],
      "execution_count": 34,
      "outputs": [
        {
          "output_type": "stream",
          "text": [
            "/usr/local/lib/python3.6/dist-packages/ipykernel_launcher.py:5: TqdmDeprecationWarning: This function will be removed in tqdm==5.0.0\n",
            "Please use `tqdm.notebook.tqdm` instead of `tqdm.tqdm_notebook`\n",
            "  \"\"\"\n"
          ],
          "name": "stderr"
        },
        {
          "output_type": "display_data",
          "data": {
            "application/vnd.jupyter.widget-view+json": {
              "model_id": "74122138243141e6887f7beb89918e85",
              "version_minor": 0,
              "version_major": 2
            },
            "text/plain": [
              "HBox(children=(FloatProgress(value=1.0, bar_style='info', max=1.0), HTML(value='')))"
            ]
          },
          "metadata": {
            "tags": []
          }
        },
        {
          "output_type": "stream",
          "text": [
            "\n"
          ],
          "name": "stdout"
        }
      ]
    },
    {
      "cell_type": "code",
      "metadata": {
        "id": "3URUR0nSuMPo",
        "colab_type": "code",
        "colab": {
          "base_uri": "https://localhost:8080/",
          "height": 138,
          "referenced_widgets": [
            "a44be1f62e1d4bb0974123654960445e",
            "ca9c534535e446edac77563c8bce6b00",
            "b3a5b1b9932f4c949fe5bce9af896f7f",
            "7be783a53a464c7e896affe65d0ec9cb",
            "0aef6a2b43214e2fb8cb9f93afe51aad",
            "edab2df13608488a863b20f0b5588720",
            "a28ef7ff25c84618bb550e0c84cc11bf",
            "e8ed7280d39748ae8d4a67d6257ef729"
          ]
        },
        "outputId": "7cc62187-51a0-400d-e7e2-1b58511f57c9"
      },
      "source": [
        "from numpy import zeros\n",
        "input_matrix = zeros((vocab_size, 300))\n",
        "for word, i in tqdm_notebook(t.word_index.items()):\n",
        "  embedding_vector = embeddings_index.get(word)\n",
        "  if embedding_vector is not None:\n",
        "    input_matrix[i] = embedding_vector"
      ],
      "execution_count": 35,
      "outputs": [
        {
          "output_type": "stream",
          "text": [
            "/usr/local/lib/python3.6/dist-packages/ipykernel_launcher.py:3: TqdmDeprecationWarning: This function will be removed in tqdm==5.0.0\n",
            "Please use `tqdm.notebook.tqdm` instead of `tqdm.tqdm_notebook`\n",
            "  This is separate from the ipykernel package so we can avoid doing imports until\n"
          ],
          "name": "stderr"
        },
        {
          "output_type": "display_data",
          "data": {
            "application/vnd.jupyter.widget-view+json": {
              "model_id": "a44be1f62e1d4bb0974123654960445e",
              "version_minor": 0,
              "version_major": 2
            },
            "text/plain": [
              "HBox(children=(FloatProgress(value=0.0, max=5654.0), HTML(value='')))"
            ]
          },
          "metadata": {
            "tags": []
          }
        },
        {
          "output_type": "stream",
          "text": [
            "\n"
          ],
          "name": "stdout"
        }
      ]
    },
    {
      "cell_type": "code",
      "metadata": {
        "id": "VVITgOAOI4P5",
        "colab_type": "code",
        "colab": {}
      },
      "source": [
        "with open('meld_inputmatrix.pickle', 'wb') as handle:\n",
        "    pickle.dump(input_matrix, handle)"
      ],
      "execution_count": 113,
      "outputs": []
    },
    {
      "cell_type": "code",
      "metadata": {
        "id": "Ik7ECtBtwcLj",
        "colab_type": "code",
        "colab": {}
      },
      "source": [
        "from sklearn import preprocessing"
      ],
      "execution_count": 36,
      "outputs": []
    },
    {
      "cell_type": "markdown",
      "metadata": {
        "id": "TmWL9bf0R1-I",
        "colab_type": "text"
      },
      "source": [
        "Preparing the label data"
      ]
    },
    {
      "cell_type": "code",
      "metadata": {
        "id": "dsHAJHObxFk9",
        "colab_type": "code",
        "colab": {}
      },
      "source": [
        "prep = preprocessing.LabelEncoder()\n",
        "p_y_train = prep.fit_transform(Y_train)\n",
        "p_y_cv = prep.transform(Y_cv)\n",
        "p_y_test = prep.transform(Y_test)"
      ],
      "execution_count": 37,
      "outputs": []
    },
    {
      "cell_type": "code",
      "metadata": {
        "id": "6K3vVqDxJvki",
        "colab_type": "code",
        "colab": {}
      },
      "source": [
        "with open('label_encoder.pickle', 'wb') as handle:\n",
        "    pickle.dump(prep, handle)"
      ],
      "execution_count": 114,
      "outputs": []
    },
    {
      "cell_type": "code",
      "metadata": {
        "id": "uMNflEp_BJim",
        "colab_type": "code",
        "colab": {
          "base_uri": "https://localhost:8080/",
          "height": 52
        },
        "outputId": "0a873c5e-1bb6-430f-96bf-2a9d6e1c7a9f"
      },
      "source": [
        "prep.classes_"
      ],
      "execution_count": 95,
      "outputs": [
        {
          "output_type": "execute_result",
          "data": {
            "text/plain": [
              "array(['anger', 'disgust', 'fear', 'joy', 'neutral', 'sadness',\n",
              "       'surprise'], dtype=object)"
            ]
          },
          "metadata": {
            "tags": []
          },
          "execution_count": 95
        }
      ]
    },
    {
      "cell_type": "code",
      "metadata": {
        "id": "445Ji-AyC7DI",
        "colab_type": "code",
        "colab": {
          "base_uri": "https://localhost:8080/",
          "height": 34
        },
        "outputId": "962bf595-0ecc-4161-95e2-6d70f32afcff"
      },
      "source": [
        "prep.transform(prep.classes_)"
      ],
      "execution_count": 96,
      "outputs": [
        {
          "output_type": "execute_result",
          "data": {
            "text/plain": [
              "array([0, 1, 2, 3, 4, 5, 6])"
            ]
          },
          "metadata": {
            "tags": []
          },
          "execution_count": 96
        }
      ]
    },
    {
      "cell_type": "code",
      "metadata": {
        "id": "AoWcnRWSCeU0",
        "colab_type": "code",
        "colab": {}
      },
      "source": [
        "label_dict = dict(zip(prep.transform(prep.classes_), prep.classes_ ))"
      ],
      "execution_count": 100,
      "outputs": []
    },
    {
      "cell_type": "code",
      "metadata": {
        "id": "N5uWiVL6xkMr",
        "colab_type": "code",
        "colab": {
          "base_uri": "https://localhost:8080/",
          "height": 34
        },
        "outputId": "cc998295-f224-48f3-a0d6-eb4d466abb13"
      },
      "source": [
        "p_y_train"
      ],
      "execution_count": 38,
      "outputs": [
        {
          "output_type": "execute_result",
          "data": {
            "text/plain": [
              "array([4, 4, 4, ..., 6, 4, 3])"
            ]
          },
          "metadata": {
            "tags": []
          },
          "execution_count": 38
        }
      ]
    },
    {
      "cell_type": "code",
      "metadata": {
        "id": "B14L40L2D3BB",
        "colab_type": "code",
        "colab": {}
      },
      "source": [
        "label_train = np_utils.to_categorical(p_y_train)\n",
        "label_cv = np_utils.to_categorical(p_y_cv)\n",
        "label_test = np_utils.to_categorical(p_y_test)"
      ],
      "execution_count": 39,
      "outputs": []
    },
    {
      "cell_type": "markdown",
      "metadata": {
        "id": "DR8bfeBgR9Bn",
        "colab_type": "text"
      },
      "source": [
        "Modelling"
      ]
    },
    {
      "cell_type": "markdown",
      "metadata": {
        "id": "LtWKxyB6SAwt",
        "colab_type": "text"
      },
      "source": [
        "CNN with Maxpooling,dropout and BatchNormalization"
      ]
    },
    {
      "cell_type": "code",
      "metadata": {
        "id": "bifsKl_pxrUP",
        "colab_type": "code",
        "colab": {
          "base_uri": "https://localhost:8080/",
          "height": 746
        },
        "outputId": "ed787fe7-2e35-443f-a414-97fad3da041a"
      },
      "source": [
        "sequence_input = Input(shape=(50,))\n",
        "embedding_layer = Embedding(vocab_size, 300,weights=[input_matrix],trainable=False)\n",
        "embedded_sequences = embedding_layer(sequence_input)\n",
        "x = Conv1D(256, 3, activation='relu')(embedded_sequences)\n",
        "x = MaxPooling1D(2)(x)\n",
        "x = Dropout(0.5)(x)\n",
        "x = BatchNormalization()(x) \n",
        "x = Conv1D(128, 3, activation='relu')(x)\n",
        "x = MaxPooling1D(2)(x)\n",
        "x = Dropout(0.5)(x)\n",
        "x = BatchNormalization()(x) \n",
        "x = Conv1D(64, 1, activation='relu')(x)\n",
        "x = MaxPooling1D(2)(x)  \n",
        "x = Dropout(0.5)(x)\n",
        "x = BatchNormalization()(x)\n",
        "x = Flatten()(x)\n",
        "x = Dense(64, activation='relu')(x)\n",
        "preds = Dense(7, activation='softmax')(x)\n",
        "\n",
        "model = Model(sequence_input, preds)\n",
        "model.compile(loss='categorical_crossentropy',\n",
        "              optimizer='adam',\n",
        "              )\n",
        "model.summary()\n"
      ],
      "execution_count": 292,
      "outputs": [
        {
          "output_type": "stream",
          "text": [
            "Model: \"model_6\"\n",
            "_________________________________________________________________\n",
            "Layer (type)                 Output Shape              Param #   \n",
            "=================================================================\n",
            "input_33 (InputLayer)        (None, 50)                0         \n",
            "_________________________________________________________________\n",
            "embedding_12 (Embedding)     (None, 50, 300)           1696500   \n",
            "_________________________________________________________________\n",
            "conv1d_18 (Conv1D)           (None, 48, 256)           230656    \n",
            "_________________________________________________________________\n",
            "max_pooling1d_16 (MaxPooling (None, 24, 256)           0         \n",
            "_________________________________________________________________\n",
            "dropout_3 (Dropout)          (None, 24, 256)           0         \n",
            "_________________________________________________________________\n",
            "batch_normalization_2 (Batch (None, 24, 256)           1024      \n",
            "_________________________________________________________________\n",
            "conv1d_19 (Conv1D)           (None, 22, 128)           98432     \n",
            "_________________________________________________________________\n",
            "max_pooling1d_17 (MaxPooling (None, 11, 128)           0         \n",
            "_________________________________________________________________\n",
            "dropout_4 (Dropout)          (None, 11, 128)           0         \n",
            "_________________________________________________________________\n",
            "batch_normalization_3 (Batch (None, 11, 128)           512       \n",
            "_________________________________________________________________\n",
            "conv1d_20 (Conv1D)           (None, 11, 64)            8256      \n",
            "_________________________________________________________________\n",
            "max_pooling1d_18 (MaxPooling (None, 5, 64)             0         \n",
            "_________________________________________________________________\n",
            "dropout_5 (Dropout)          (None, 5, 64)             0         \n",
            "_________________________________________________________________\n",
            "batch_normalization_4 (Batch (None, 5, 64)             256       \n",
            "_________________________________________________________________\n",
            "flatten_6 (Flatten)          (None, 320)               0         \n",
            "_________________________________________________________________\n",
            "dense_11 (Dense)             (None, 64)                20544     \n",
            "_________________________________________________________________\n",
            "dense_12 (Dense)             (None, 7)                 455       \n",
            "=================================================================\n",
            "Total params: 2,056,635\n",
            "Trainable params: 359,239\n",
            "Non-trainable params: 1,697,396\n",
            "_________________________________________________________________\n"
          ],
          "name": "stdout"
        }
      ]
    },
    {
      "cell_type": "code",
      "metadata": {
        "id": "VkXmEEB2-mMB",
        "colab_type": "code",
        "colab": {
          "base_uri": "https://localhost:8080/",
          "height": 399
        },
        "outputId": "929678e0-82ca-4643-ddb2-21bc07f7aa54"
      },
      "source": [
        "model.fit(padded_docs_train, label_train, validation_data=(padded_docs_cv, label_cv),\n",
        "          epochs=10, batch_size=64)\n"
      ],
      "execution_count": 295,
      "outputs": [
        {
          "output_type": "stream",
          "text": [
            "Train on 9985 samples, validate on 1109 samples\n",
            "Epoch 1/10\n",
            "9985/9985 [==============================] - 18s 2ms/step - loss: 1.2172 - val_loss: 1.4949\n",
            "Epoch 2/10\n",
            "9985/9985 [==============================] - 18s 2ms/step - loss: 1.2044 - val_loss: 1.4876\n",
            "Epoch 3/10\n",
            "9985/9985 [==============================] - 18s 2ms/step - loss: 1.1895 - val_loss: 1.4885\n",
            "Epoch 4/10\n",
            "9985/9985 [==============================] - 18s 2ms/step - loss: 1.1953 - val_loss: 1.4773\n",
            "Epoch 5/10\n",
            "9985/9985 [==============================] - 18s 2ms/step - loss: 1.1613 - val_loss: 1.5079\n",
            "Epoch 6/10\n",
            "9985/9985 [==============================] - 18s 2ms/step - loss: 1.1362 - val_loss: 1.5143\n",
            "Epoch 7/10\n",
            "9985/9985 [==============================] - 19s 2ms/step - loss: 1.1321 - val_loss: 1.5004\n",
            "Epoch 8/10\n",
            "9985/9985 [==============================] - 18s 2ms/step - loss: 1.1004 - val_loss: 1.5436\n",
            "Epoch 9/10\n",
            "9985/9985 [==============================] - 18s 2ms/step - loss: 1.1016 - val_loss: 1.5148\n",
            "Epoch 10/10\n",
            "9985/9985 [==============================] - 18s 2ms/step - loss: 1.0936 - val_loss: 1.5424\n"
          ],
          "name": "stdout"
        },
        {
          "output_type": "execute_result",
          "data": {
            "text/plain": [
              "<keras.callbacks.callbacks.History at 0x7f65a35bf710>"
            ]
          },
          "metadata": {
            "tags": []
          },
          "execution_count": 295
        }
      ]
    },
    {
      "cell_type": "markdown",
      "metadata": {
        "id": "tCDaZHgMSSNw",
        "colab_type": "text"
      },
      "source": [
        "Modelling without Maxpooling"
      ]
    },
    {
      "cell_type": "code",
      "metadata": {
        "id": "9juog7BhDfxQ",
        "colab_type": "code",
        "colab": {
          "base_uri": "https://localhost:8080/",
          "height": 642
        },
        "outputId": "53005408-cb39-438a-f6b0-0b9781a6541a"
      },
      "source": [
        "sequence_input = Input(shape=(50,))\n",
        "embedding_layer = Embedding(vocab_size, 300,weights=[input_matrix],trainable=False)\n",
        "embedded_sequences = embedding_layer(sequence_input)\n",
        "x = Conv1D(256, 3, activation='relu')(embedded_sequences)\n",
        "x = Dropout(0.5)(x)\n",
        "x = BatchNormalization()(x) \n",
        "x = Conv1D(128, 3, activation='relu')(x)\n",
        "x = Dropout(0.5)(x)\n",
        "x = BatchNormalization()(x) \n",
        "x = Conv1D(64, 1, activation='relu')(x)\n",
        "x = Dropout(0.5)(x)\n",
        "x = BatchNormalization()(x)\n",
        "x = Flatten()(x)\n",
        "x = Dense(64, activation='relu')(x)\n",
        "preds = Dense(7, activation='softmax')(x)\n",
        "\n",
        "model = Model(sequence_input, preds)\n",
        "model.compile(loss='categorical_crossentropy',\n",
        "              optimizer='adam',\n",
        "              )\n",
        "model.summary()"
      ],
      "execution_count": 299,
      "outputs": [
        {
          "output_type": "stream",
          "text": [
            "Model: \"model_8\"\n",
            "_________________________________________________________________\n",
            "Layer (type)                 Output Shape              Param #   \n",
            "=================================================================\n",
            "input_36 (InputLayer)        (None, 50)                0         \n",
            "_________________________________________________________________\n",
            "embedding_15 (Embedding)     (None, 50, 300)           1696500   \n",
            "_________________________________________________________________\n",
            "conv1d_30 (Conv1D)           (None, 48, 256)           230656    \n",
            "_________________________________________________________________\n",
            "dropout_14 (Dropout)         (None, 48, 256)           0         \n",
            "_________________________________________________________________\n",
            "batch_normalization_13 (Batc (None, 48, 256)           1024      \n",
            "_________________________________________________________________\n",
            "conv1d_31 (Conv1D)           (None, 46, 128)           98432     \n",
            "_________________________________________________________________\n",
            "dropout_15 (Dropout)         (None, 46, 128)           0         \n",
            "_________________________________________________________________\n",
            "batch_normalization_14 (Batc (None, 46, 128)           512       \n",
            "_________________________________________________________________\n",
            "conv1d_32 (Conv1D)           (None, 46, 64)            8256      \n",
            "_________________________________________________________________\n",
            "dropout_16 (Dropout)         (None, 46, 64)            0         \n",
            "_________________________________________________________________\n",
            "batch_normalization_15 (Batc (None, 46, 64)            256       \n",
            "_________________________________________________________________\n",
            "flatten_8 (Flatten)          (None, 2944)              0         \n",
            "_________________________________________________________________\n",
            "dense_16 (Dense)             (None, 64)                188480    \n",
            "_________________________________________________________________\n",
            "dense_17 (Dense)             (None, 7)                 455       \n",
            "=================================================================\n",
            "Total params: 2,224,571\n",
            "Trainable params: 527,175\n",
            "Non-trainable params: 1,697,396\n",
            "_________________________________________________________________\n"
          ],
          "name": "stdout"
        }
      ]
    },
    {
      "cell_type": "code",
      "metadata": {
        "id": "ILUoGyE0DuHM",
        "colab_type": "code",
        "colab": {
          "base_uri": "https://localhost:8080/",
          "height": 399
        },
        "outputId": "568b55a0-df22-4806-b98f-0672b0fe06d4"
      },
      "source": [
        "model.fit(padded_docs_train, label_train, validation_data=(padded_docs_cv, label_cv),\n",
        "          epochs=10, batch_size=64)\n"
      ],
      "execution_count": 301,
      "outputs": [
        {
          "output_type": "stream",
          "text": [
            "Train on 9985 samples, validate on 1109 samples\n",
            "Epoch 1/10\n",
            "9985/9985 [==============================] - 28s 3ms/step - loss: 1.3150 - val_loss: 1.4801\n",
            "Epoch 2/10\n",
            "9985/9985 [==============================] - 28s 3ms/step - loss: 1.2868 - val_loss: 1.4970\n",
            "Epoch 3/10\n",
            "9985/9985 [==============================] - 28s 3ms/step - loss: 1.2831 - val_loss: 1.4960\n",
            "Epoch 4/10\n",
            "9985/9985 [==============================] - 28s 3ms/step - loss: 1.2495 - val_loss: 1.4872\n",
            "Epoch 5/10\n",
            "9985/9985 [==============================] - 28s 3ms/step - loss: 1.2363 - val_loss: 1.4629\n",
            "Epoch 6/10\n",
            "9985/9985 [==============================] - 28s 3ms/step - loss: 1.2105 - val_loss: 1.5160\n",
            "Epoch 7/10\n",
            "9985/9985 [==============================] - 27s 3ms/step - loss: 1.2006 - val_loss: 1.5049\n",
            "Epoch 8/10\n",
            "9985/9985 [==============================] - 28s 3ms/step - loss: 1.1712 - val_loss: 1.5182\n",
            "Epoch 9/10\n",
            "9985/9985 [==============================] - 28s 3ms/step - loss: 1.1479 - val_loss: 1.5351\n",
            "Epoch 10/10\n",
            "9985/9985 [==============================] - 28s 3ms/step - loss: 1.1213 - val_loss: 1.5360\n"
          ],
          "name": "stdout"
        },
        {
          "output_type": "execute_result",
          "data": {
            "text/plain": [
              "<keras.callbacks.callbacks.History at 0x7f65a293d080>"
            ]
          },
          "metadata": {
            "tags": []
          },
          "execution_count": 301
        }
      ]
    },
    {
      "cell_type": "code",
      "metadata": {
        "id": "IpQkyxxodzGs",
        "colab_type": "code",
        "colab": {
          "base_uri": "https://localhost:8080/",
          "height": 851
        },
        "outputId": "09d67820-fdab-440c-db25-d95f2e218af8"
      },
      "source": [
        "sequence_input = Input(shape=(50,))\n",
        "embedding_layer = Embedding(vocab_size, 300,weights=[input_matrix],trainable=False)\n",
        "embedded_sequences = embedding_layer(sequence_input)\n",
        "x1 = Conv1D(32, 2)(embedded_sequences)\n",
        "x2 = Conv1D(32, 2)(embedded_sequences)\n",
        "x3 = Conv1D(32, 2)(embedded_sequences)\n",
        "con = Concatenate()([x1,x2,x3])\n",
        "pool1 = MaxPooling1D(2)(con)\n",
        "\n",
        "x4 = Conv1D(16, 2)(pool1)\n",
        "x5 = Conv1D(16, 2)(pool1)\n",
        "x6 = Conv1D(16, 2)(pool1)\n",
        "con = Concatenate()([x4,x5,x6])\n",
        "pool2 = MaxPooling1D(2)(con)\n",
        "x7 = Conv1D(32, 3)(pool2)\n",
        "x = Flatten()(x7)\n",
        "drop=Dropout(0.3)(x)\n",
        "d1 = Dense(128,activation='relu')(drop)\n",
        "d1 = Dropout(0.5)(d1)\n",
        "preds = Dense(7,activation='softmax')(d1)\n",
        "model = Model(sequence_input, preds)\n",
        "model.compile(loss='categorical_crossentropy',\n",
        "              optimizer='adam',\n",
        "              )\n",
        "model.summary()"
      ],
      "execution_count": 115,
      "outputs": [
        {
          "output_type": "stream",
          "text": [
            "Model: \"model_7\"\n",
            "__________________________________________________________________________________________________\n",
            "Layer (type)                    Output Shape         Param #     Connected to                     \n",
            "==================================================================================================\n",
            "input_7 (InputLayer)            (None, 50)           0                                            \n",
            "__________________________________________________________________________________________________\n",
            "embedding_7 (Embedding)         (None, 50, 300)      1696500     input_7[0][0]                    \n",
            "__________________________________________________________________________________________________\n",
            "conv1d_19 (Conv1D)              (None, 49, 32)       19232       embedding_7[0][0]                \n",
            "__________________________________________________________________________________________________\n",
            "conv1d_20 (Conv1D)              (None, 49, 32)       19232       embedding_7[0][0]                \n",
            "__________________________________________________________________________________________________\n",
            "conv1d_21 (Conv1D)              (None, 49, 32)       19232       embedding_7[0][0]                \n",
            "__________________________________________________________________________________________________\n",
            "concatenate_1 (Concatenate)     (None, 49, 96)       0           conv1d_19[0][0]                  \n",
            "                                                                 conv1d_20[0][0]                  \n",
            "                                                                 conv1d_21[0][0]                  \n",
            "__________________________________________________________________________________________________\n",
            "max_pooling1d_1 (MaxPooling1D)  (None, 24, 96)       0           concatenate_1[0][0]              \n",
            "__________________________________________________________________________________________________\n",
            "conv1d_22 (Conv1D)              (None, 23, 16)       3088        max_pooling1d_1[0][0]            \n",
            "__________________________________________________________________________________________________\n",
            "conv1d_23 (Conv1D)              (None, 23, 16)       3088        max_pooling1d_1[0][0]            \n",
            "__________________________________________________________________________________________________\n",
            "conv1d_24 (Conv1D)              (None, 23, 16)       3088        max_pooling1d_1[0][0]            \n",
            "__________________________________________________________________________________________________\n",
            "concatenate_2 (Concatenate)     (None, 23, 48)       0           conv1d_22[0][0]                  \n",
            "                                                                 conv1d_23[0][0]                  \n",
            "                                                                 conv1d_24[0][0]                  \n",
            "__________________________________________________________________________________________________\n",
            "max_pooling1d_2 (MaxPooling1D)  (None, 11, 48)       0           concatenate_2[0][0]              \n",
            "__________________________________________________________________________________________________\n",
            "conv1d_25 (Conv1D)              (None, 9, 32)        4640        max_pooling1d_2[0][0]            \n",
            "__________________________________________________________________________________________________\n",
            "flatten_7 (Flatten)             (None, 288)          0           conv1d_25[0][0]                  \n",
            "__________________________________________________________________________________________________\n",
            "dropout_19 (Dropout)            (None, 288)          0           flatten_7[0][0]                  \n",
            "__________________________________________________________________________________________________\n",
            "dense_13 (Dense)                (None, 128)          36992       dropout_19[0][0]                 \n",
            "__________________________________________________________________________________________________\n",
            "dropout_20 (Dropout)            (None, 128)          0           dense_13[0][0]                   \n",
            "__________________________________________________________________________________________________\n",
            "dense_14 (Dense)                (None, 7)            903         dropout_20[0][0]                 \n",
            "==================================================================================================\n",
            "Total params: 1,805,995\n",
            "Trainable params: 109,495\n",
            "Non-trainable params: 1,696,500\n",
            "__________________________________________________________________________________________________\n"
          ],
          "name": "stdout"
        }
      ]
    },
    {
      "cell_type": "code",
      "metadata": {
        "id": "TmzG9yKCdzDb",
        "colab_type": "code",
        "colab": {
          "base_uri": "https://localhost:8080/",
          "height": 746
        },
        "outputId": "0e53c76b-ae36-452d-f776-266ad5f4a3df"
      },
      "source": [
        "model.fit(padded_docs_train, label_train, validation_data=(padded_docs_cv, label_cv),\n",
        "          epochs=20, batch_size=64)"
      ],
      "execution_count": 116,
      "outputs": [
        {
          "output_type": "stream",
          "text": [
            "Train on 9985 samples, validate on 1109 samples\n",
            "Epoch 1/20\n",
            "9985/9985 [==============================] - 8s 757us/step - loss: 1.6003 - val_loss: 1.6149\n",
            "Epoch 2/20\n",
            "9985/9985 [==============================] - 7s 712us/step - loss: 1.4939 - val_loss: 1.5285\n",
            "Epoch 3/20\n",
            "9985/9985 [==============================] - 7s 720us/step - loss: 1.4033 - val_loss: 1.4894\n",
            "Epoch 4/20\n",
            "9985/9985 [==============================] - 7s 721us/step - loss: 1.3403 - val_loss: 1.4851\n",
            "Epoch 5/20\n",
            "9985/9985 [==============================] - 7s 728us/step - loss: 1.2564 - val_loss: 1.4866\n",
            "Epoch 6/20\n",
            "9985/9985 [==============================] - 7s 731us/step - loss: 1.1888 - val_loss: 1.5771\n",
            "Epoch 7/20\n",
            "9985/9985 [==============================] - 7s 733us/step - loss: 1.1350 - val_loss: 1.6175\n",
            "Epoch 8/20\n",
            "9985/9985 [==============================] - 7s 746us/step - loss: 1.0483 - val_loss: 1.6592\n",
            "Epoch 9/20\n",
            "9985/9985 [==============================] - 8s 753us/step - loss: 1.0061 - val_loss: 1.7359\n",
            "Epoch 10/20\n",
            "9985/9985 [==============================] - 7s 741us/step - loss: 0.9099 - val_loss: 1.8415\n",
            "Epoch 11/20\n",
            "9985/9985 [==============================] - 8s 755us/step - loss: 0.8848 - val_loss: 2.0056\n",
            "Epoch 12/20\n",
            "9985/9985 [==============================] - 8s 755us/step - loss: 0.7800 - val_loss: 2.4465\n",
            "Epoch 13/20\n",
            "9985/9985 [==============================] - 8s 756us/step - loss: 0.8196 - val_loss: 2.2329\n",
            "Epoch 14/20\n",
            "9985/9985 [==============================] - 7s 749us/step - loss: 0.6747 - val_loss: 2.2496\n",
            "Epoch 15/20\n",
            "9985/9985 [==============================] - 7s 747us/step - loss: 0.7780 - val_loss: 2.4984\n",
            "Epoch 16/20\n",
            "9985/9985 [==============================] - 8s 751us/step - loss: 0.6146 - val_loss: 2.4381\n",
            "Epoch 17/20\n",
            "9985/9985 [==============================] - 7s 749us/step - loss: 0.6435 - val_loss: 2.8111\n",
            "Epoch 18/20\n",
            "9985/9985 [==============================] - 8s 753us/step - loss: 0.9283 - val_loss: 2.3854\n",
            "Epoch 19/20\n",
            "9985/9985 [==============================] - 7s 750us/step - loss: 0.6320 - val_loss: 2.6725\n",
            "Epoch 20/20\n",
            "9985/9985 [==============================] - 8s 752us/step - loss: 0.5487 - val_loss: 2.7484\n"
          ],
          "name": "stdout"
        },
        {
          "output_type": "execute_result",
          "data": {
            "text/plain": [
              "<keras.callbacks.callbacks.History at 0x7f096231d748>"
            ]
          },
          "metadata": {
            "tags": []
          },
          "execution_count": 116
        }
      ]
    },
    {
      "cell_type": "code",
      "metadata": {
        "id": "ld3MExvPdy-e",
        "colab_type": "code",
        "colab": {}
      },
      "source": [
        ""
      ],
      "execution_count": null,
      "outputs": []
    },
    {
      "cell_type": "markdown",
      "metadata": {
        "id": "LQtoX60QSnTS",
        "colab_type": "text"
      },
      "source": [
        "CNN with LSTM "
      ]
    },
    {
      "cell_type": "code",
      "metadata": {
        "id": "r5_r0X6jOPio",
        "colab_type": "code",
        "colab": {
          "base_uri": "https://localhost:8080/",
          "height": 781
        },
        "outputId": "f388ec4f-cc99-48b3-b2f6-d2a6b63b6d07"
      },
      "source": [
        "sequence_input = Input(shape=(50,))\n",
        "embedding_layer = Embedding(vocab_size, 300,weights=[input_matrix],trainable=False)\n",
        "embedded_sequences = embedding_layer(sequence_input)\n",
        "x = Conv1D(256, 3, activation='relu')(embedded_sequences)\n",
        "x = Dropout(0.5)(x)\n",
        "x = BatchNormalization()(x) \n",
        "x = LSTM(128, dropout=0.3, return_sequences=True)(x)\n",
        "x = Dropout(0.5)(x)\n",
        "x = Conv1D(128, 3, activation='relu')(x)\n",
        "x = Dropout(0.5)(x)\n",
        "x = BatchNormalization()(x) \n",
        "x = LSTM(32, dropout=0.3, return_sequences=True)(x)\n",
        "x = Dropout(0.5)(x)\n",
        "x = Conv1D(64, 1, activation='relu')(x)\n",
        "x = Dropout(0.5)(x)\n",
        "x = BatchNormalization()(x)\n",
        "x = Flatten()(x)\n",
        "x = Dense(64, activation='relu')(x)\n",
        "preds = Dense(7, activation='softmax')(x)\n",
        "\n",
        "model = Model(sequence_input, preds)\n",
        "model.compile(loss='categorical_crossentropy',\n",
        "              optimizer='adam',\n",
        "              )\n",
        "model.summary()"
      ],
      "execution_count": 123,
      "outputs": [
        {
          "output_type": "stream",
          "text": [
            "Model: \"model_14\"\n",
            "_________________________________________________________________\n",
            "Layer (type)                 Output Shape              Param #   \n",
            "=================================================================\n",
            "input_39 (InputLayer)        (None, 50)                0         \n",
            "_________________________________________________________________\n",
            "embedding_22 (Embedding)     (None, 50, 300)           1696500   \n",
            "_________________________________________________________________\n",
            "conv1d_68 (Conv1D)           (None, 48, 256)           230656    \n",
            "_________________________________________________________________\n",
            "dropout_55 (Dropout)         (None, 48, 256)           0         \n",
            "_________________________________________________________________\n",
            "batch_normalization_19 (Batc (None, 48, 256)           1024      \n",
            "_________________________________________________________________\n",
            "lstm_26 (LSTM)               (None, 48, 128)           197120    \n",
            "_________________________________________________________________\n",
            "dropout_56 (Dropout)         (None, 48, 128)           0         \n",
            "_________________________________________________________________\n",
            "conv1d_69 (Conv1D)           (None, 46, 128)           49280     \n",
            "_________________________________________________________________\n",
            "dropout_57 (Dropout)         (None, 46, 128)           0         \n",
            "_________________________________________________________________\n",
            "batch_normalization_20 (Batc (None, 46, 128)           512       \n",
            "_________________________________________________________________\n",
            "lstm_27 (LSTM)               (None, 46, 32)            20608     \n",
            "_________________________________________________________________\n",
            "dropout_58 (Dropout)         (None, 46, 32)            0         \n",
            "_________________________________________________________________\n",
            "conv1d_70 (Conv1D)           (None, 46, 64)            2112      \n",
            "_________________________________________________________________\n",
            "dropout_59 (Dropout)         (None, 46, 64)            0         \n",
            "_________________________________________________________________\n",
            "batch_normalization_21 (Batc (None, 46, 64)            256       \n",
            "_________________________________________________________________\n",
            "flatten_14 (Flatten)         (None, 2944)              0         \n",
            "_________________________________________________________________\n",
            "dense_41 (Dense)             (None, 64)                188480    \n",
            "_________________________________________________________________\n",
            "dense_42 (Dense)             (None, 7)                 455       \n",
            "=================================================================\n",
            "Total params: 2,387,003\n",
            "Trainable params: 689,607\n",
            "Non-trainable params: 1,697,396\n",
            "_________________________________________________________________\n"
          ],
          "name": "stdout"
        }
      ]
    },
    {
      "cell_type": "code",
      "metadata": {
        "id": "M7kmUGwwOPc2",
        "colab_type": "code",
        "colab": {
          "base_uri": "https://localhost:8080/",
          "height": 746
        },
        "outputId": "38860c61-8480-47c9-f9e9-030f71eaec5f"
      },
      "source": [
        "model.fit(padded_docs_train, label_train, validation_data=(padded_docs_cv, label_cv),\n",
        "          epochs=20, batch_size=64)"
      ],
      "execution_count": 124,
      "outputs": [
        {
          "output_type": "stream",
          "text": [
            "Train on 9985 samples, validate on 1109 samples\n",
            "Epoch 1/20\n",
            "9985/9985 [==============================] - 56s 6ms/step - loss: 1.7342 - val_loss: 1.6451\n",
            "Epoch 2/20\n",
            "9985/9985 [==============================] - 55s 6ms/step - loss: 1.5701 - val_loss: 1.6273\n",
            "Epoch 3/20\n",
            "9985/9985 [==============================] - 55s 5ms/step - loss: 1.5419 - val_loss: 1.6607\n",
            "Epoch 4/20\n",
            "9985/9985 [==============================] - 54s 5ms/step - loss: 1.5342 - val_loss: 1.6271\n",
            "Epoch 5/20\n",
            "9985/9985 [==============================] - 54s 5ms/step - loss: 1.5206 - val_loss: 1.5881\n",
            "Epoch 6/20\n",
            "9985/9985 [==============================] - 55s 5ms/step - loss: 1.5096 - val_loss: 1.5639\n",
            "Epoch 7/20\n",
            "9985/9985 [==============================] - 54s 5ms/step - loss: 1.4990 - val_loss: 1.5856\n",
            "Epoch 8/20\n",
            "9985/9985 [==============================] - 55s 5ms/step - loss: 1.4737 - val_loss: 1.5672\n",
            "Epoch 9/20\n",
            "9985/9985 [==============================] - 55s 5ms/step - loss: 1.4605 - val_loss: 1.6432\n",
            "Epoch 10/20\n",
            "9985/9985 [==============================] - 54s 5ms/step - loss: 1.4442 - val_loss: 1.6382\n",
            "Epoch 11/20\n",
            "9985/9985 [==============================] - 54s 5ms/step - loss: 1.4281 - val_loss: 1.5665\n",
            "Epoch 12/20\n",
            "9985/9985 [==============================] - 55s 5ms/step - loss: 1.4167 - val_loss: 1.5343\n",
            "Epoch 13/20\n",
            "9985/9985 [==============================] - 54s 5ms/step - loss: 1.4072 - val_loss: 1.6854\n",
            "Epoch 14/20\n",
            "9985/9985 [==============================] - 55s 6ms/step - loss: 1.3879 - val_loss: 1.5660\n",
            "Epoch 15/20\n",
            "9985/9985 [==============================] - 54s 5ms/step - loss: 1.3794 - val_loss: 1.5408\n",
            "Epoch 16/20\n",
            "9985/9985 [==============================] - 54s 5ms/step - loss: 1.3811 - val_loss: 1.5150\n",
            "Epoch 17/20\n",
            "9985/9985 [==============================] - 55s 6ms/step - loss: 1.3666 - val_loss: 1.5980\n",
            "Epoch 18/20\n",
            "9985/9985 [==============================] - 54s 5ms/step - loss: 1.3572 - val_loss: 1.5114\n",
            "Epoch 19/20\n",
            "9985/9985 [==============================] - 54s 5ms/step - loss: 1.3391 - val_loss: 1.5630\n",
            "Epoch 20/20\n",
            "9985/9985 [==============================] - 55s 6ms/step - loss: 1.3272 - val_loss: 1.5469\n"
          ],
          "name": "stdout"
        },
        {
          "output_type": "execute_result",
          "data": {
            "text/plain": [
              "<keras.callbacks.callbacks.History at 0x7f79333f4fd0>"
            ]
          },
          "metadata": {
            "tags": []
          },
          "execution_count": 124
        }
      ]
    },
    {
      "cell_type": "code",
      "metadata": {
        "id": "7SwuFM7qQXAA",
        "colab_type": "code",
        "colab": {}
      },
      "source": [
        ""
      ],
      "execution_count": null,
      "outputs": []
    },
    {
      "cell_type": "markdown",
      "metadata": {
        "id": "xqKtkpe0Suul",
        "colab_type": "text"
      },
      "source": [
        "Best model CNN with LSTM"
      ]
    },
    {
      "cell_type": "code",
      "metadata": {
        "id": "NZw9BqnQQW9g",
        "colab_type": "code",
        "colab": {
          "base_uri": "https://localhost:8080/",
          "height": 677
        },
        "outputId": "fa159288-0bed-46ef-8067-9ab770d884fc"
      },
      "source": [
        "sequence_input = Input(shape=(50,))\n",
        "embedding_layer = Embedding(vocab_size, 300,weights=[input_matrix],trainable=False)\n",
        "embedded_sequences = embedding_layer(sequence_input)\n",
        "x = Conv1D(256, 3, activation='relu')(embedded_sequences)\n",
        "x = Dropout(0.5)(x)\n",
        "x = BatchNormalization()(x) \n",
        "x = LSTM(64, dropout=0.3, return_sequences=True)(x)\n",
        "x = Conv1D(128, 3, activation='relu')(x)\n",
        "x = Dropout(0.5)(x)\n",
        "x = BatchNormalization()(x) \n",
        "x = Conv1D(64, 1, activation='relu')(x)\n",
        "x = Dropout(0.5)(x)\n",
        "x = BatchNormalization()(x)\n",
        "x = Flatten()(x)\n",
        "x = Dense(64, activation='relu')(x)\n",
        "preds = Dense(7, activation='softmax')(x)\n",
        "\n",
        "model = Model(sequence_input, preds)\n",
        "model.compile(loss='categorical_crossentropy',\n",
        "              optimizer='adam',\n",
        "              )\n",
        "model.summary()"
      ],
      "execution_count": 52,
      "outputs": [
        {
          "output_type": "stream",
          "text": [
            "Model: \"model_4\"\n",
            "_________________________________________________________________\n",
            "Layer (type)                 Output Shape              Param #   \n",
            "=================================================================\n",
            "input_4 (InputLayer)         (None, 50)                0         \n",
            "_________________________________________________________________\n",
            "embedding_4 (Embedding)      (None, 50, 300)           1696500   \n",
            "_________________________________________________________________\n",
            "conv1d_10 (Conv1D)           (None, 48, 256)           230656    \n",
            "_________________________________________________________________\n",
            "dropout_10 (Dropout)         (None, 48, 256)           0         \n",
            "_________________________________________________________________\n",
            "batch_normalization_10 (Batc (None, 48, 256)           1024      \n",
            "_________________________________________________________________\n",
            "lstm_4 (LSTM)                (None, 48, 64)            82176     \n",
            "_________________________________________________________________\n",
            "conv1d_11 (Conv1D)           (None, 46, 128)           24704     \n",
            "_________________________________________________________________\n",
            "dropout_11 (Dropout)         (None, 46, 128)           0         \n",
            "_________________________________________________________________\n",
            "batch_normalization_11 (Batc (None, 46, 128)           512       \n",
            "_________________________________________________________________\n",
            "conv1d_12 (Conv1D)           (None, 46, 64)            8256      \n",
            "_________________________________________________________________\n",
            "dropout_12 (Dropout)         (None, 46, 64)            0         \n",
            "_________________________________________________________________\n",
            "batch_normalization_12 (Batc (None, 46, 64)            256       \n",
            "_________________________________________________________________\n",
            "flatten_4 (Flatten)          (None, 2944)              0         \n",
            "_________________________________________________________________\n",
            "dense_7 (Dense)              (None, 64)                188480    \n",
            "_________________________________________________________________\n",
            "dense_8 (Dense)              (None, 7)                 455       \n",
            "=================================================================\n",
            "Total params: 2,233,019\n",
            "Trainable params: 535,623\n",
            "Non-trainable params: 1,697,396\n",
            "_________________________________________________________________\n"
          ],
          "name": "stdout"
        }
      ]
    },
    {
      "cell_type": "code",
      "metadata": {
        "id": "33T0-DcRQW6g",
        "colab_type": "code",
        "colab": {
          "base_uri": "https://localhost:8080/",
          "height": 1000
        },
        "outputId": "4bfde53d-0c43-4142-e049-efedca231bdb"
      },
      "source": [
        "from keras.callbacks import ModelCheckpoint\n",
        "filepath=\"weights_email.h5\"\n",
        "checkpoint = ModelCheckpoint(filepath, monitor='val_loss', verbose=1, save_best_only=True, mode='min')\n",
        "callbacks_list = [checkpoint]\n",
        "\n",
        "model.fit(padded_docs_train, label_train, callbacks=callbacks_list,validation_data=(padded_docs_cv, label_cv),\n",
        "          epochs=30, batch_size=64)\n"
      ],
      "execution_count": 53,
      "outputs": [
        {
          "output_type": "stream",
          "text": [
            "Train on 9985 samples, validate on 1109 samples\n",
            "Epoch 1/30\n",
            "9985/9985 [==============================] - 32s 3ms/step - loss: 1.6706 - val_loss: 1.6369\n",
            "\n",
            "Epoch 00001: val_loss improved from inf to 1.63686, saving model to weights_email.h5\n",
            "Epoch 2/30\n",
            "9985/9985 [==============================] - 31s 3ms/step - loss: 1.5580 - val_loss: 1.6090\n",
            "\n",
            "Epoch 00002: val_loss improved from 1.63686 to 1.60896, saving model to weights_email.h5\n",
            "Epoch 3/30\n",
            "9985/9985 [==============================] - 31s 3ms/step - loss: 1.5377 - val_loss: 1.5980\n",
            "\n",
            "Epoch 00003: val_loss improved from 1.60896 to 1.59798, saving model to weights_email.h5\n",
            "Epoch 4/30\n",
            "9985/9985 [==============================] - 31s 3ms/step - loss: 1.5173 - val_loss: 1.5648\n",
            "\n",
            "Epoch 00004: val_loss improved from 1.59798 to 1.56484, saving model to weights_email.h5\n",
            "Epoch 5/30\n",
            "9985/9985 [==============================] - 31s 3ms/step - loss: 1.4942 - val_loss: 1.6047\n",
            "\n",
            "Epoch 00005: val_loss did not improve from 1.56484\n",
            "Epoch 6/30\n",
            "9985/9985 [==============================] - 31s 3ms/step - loss: 1.4660 - val_loss: 1.5995\n",
            "\n",
            "Epoch 00006: val_loss did not improve from 1.56484\n",
            "Epoch 7/30\n",
            "9985/9985 [==============================] - 31s 3ms/step - loss: 1.4565 - val_loss: 1.5600\n",
            "\n",
            "Epoch 00007: val_loss improved from 1.56484 to 1.55999, saving model to weights_email.h5\n",
            "Epoch 8/30\n",
            "9985/9985 [==============================] - 31s 3ms/step - loss: 1.4378 - val_loss: 1.5149\n",
            "\n",
            "Epoch 00008: val_loss improved from 1.55999 to 1.51491, saving model to weights_email.h5\n",
            "Epoch 9/30\n",
            "9985/9985 [==============================] - 31s 3ms/step - loss: 1.4266 - val_loss: 1.5186\n",
            "\n",
            "Epoch 00009: val_loss did not improve from 1.51491\n",
            "Epoch 10/30\n",
            "9985/9985 [==============================] - 31s 3ms/step - loss: 1.4146 - val_loss: 1.4904\n",
            "\n",
            "Epoch 00010: val_loss improved from 1.51491 to 1.49035, saving model to weights_email.h5\n",
            "Epoch 11/30\n",
            "9985/9985 [==============================] - 31s 3ms/step - loss: 1.4013 - val_loss: 1.5295\n",
            "\n",
            "Epoch 00011: val_loss did not improve from 1.49035\n",
            "Epoch 12/30\n",
            "9985/9985 [==============================] - 31s 3ms/step - loss: 1.3815 - val_loss: 1.5102\n",
            "\n",
            "Epoch 00012: val_loss did not improve from 1.49035\n",
            "Epoch 13/30\n",
            "9985/9985 [==============================] - 31s 3ms/step - loss: 1.3689 - val_loss: 1.5081\n",
            "\n",
            "Epoch 00013: val_loss did not improve from 1.49035\n",
            "Epoch 14/30\n",
            "9985/9985 [==============================] - 32s 3ms/step - loss: 1.3572 - val_loss: 1.5651\n",
            "\n",
            "Epoch 00014: val_loss did not improve from 1.49035\n",
            "Epoch 15/30\n",
            "9985/9985 [==============================] - 31s 3ms/step - loss: 1.3428 - val_loss: 1.4829\n",
            "\n",
            "Epoch 00015: val_loss improved from 1.49035 to 1.48292, saving model to weights_email.h5\n",
            "Epoch 16/30\n",
            "9985/9985 [==============================] - 32s 3ms/step - loss: 1.3275 - val_loss: 1.5976\n",
            "\n",
            "Epoch 00016: val_loss did not improve from 1.48292\n",
            "Epoch 17/30\n",
            "9985/9985 [==============================] - 31s 3ms/step - loss: 1.3147 - val_loss: 1.5038\n",
            "\n",
            "Epoch 00017: val_loss did not improve from 1.48292\n",
            "Epoch 18/30\n",
            "9985/9985 [==============================] - 32s 3ms/step - loss: 1.3010 - val_loss: 1.4869\n",
            "\n",
            "Epoch 00018: val_loss did not improve from 1.48292\n",
            "Epoch 19/30\n",
            "9985/9985 [==============================] - 31s 3ms/step - loss: 1.2984 - val_loss: 1.4904\n",
            "\n",
            "Epoch 00019: val_loss did not improve from 1.48292\n",
            "Epoch 20/30\n",
            "9985/9985 [==============================] - 31s 3ms/step - loss: 1.2896 - val_loss: 1.4893\n",
            "\n",
            "Epoch 00020: val_loss did not improve from 1.48292\n",
            "Epoch 21/30\n",
            "9985/9985 [==============================] - 31s 3ms/step - loss: 1.2741 - val_loss: 1.5157\n",
            "\n",
            "Epoch 00021: val_loss did not improve from 1.48292\n",
            "Epoch 22/30\n",
            "9985/9985 [==============================] - 31s 3ms/step - loss: 1.2584 - val_loss: 1.5455\n",
            "\n",
            "Epoch 00022: val_loss did not improve from 1.48292\n",
            "Epoch 23/30\n",
            "9985/9985 [==============================] - 31s 3ms/step - loss: 1.2587 - val_loss: 1.4694\n",
            "\n",
            "Epoch 00023: val_loss improved from 1.48292 to 1.46936, saving model to weights_email.h5\n",
            "Epoch 24/30\n",
            "9985/9985 [==============================] - 32s 3ms/step - loss: 1.2454 - val_loss: 1.5390\n",
            "\n",
            "Epoch 00024: val_loss did not improve from 1.46936\n",
            "Epoch 25/30\n",
            "9985/9985 [==============================] - 32s 3ms/step - loss: 1.2303 - val_loss: 1.5681\n",
            "\n",
            "Epoch 00025: val_loss did not improve from 1.46936\n",
            "Epoch 26/30\n",
            "9985/9985 [==============================] - 32s 3ms/step - loss: 1.2179 - val_loss: 1.5683\n",
            "\n",
            "Epoch 00026: val_loss did not improve from 1.46936\n",
            "Epoch 27/30\n",
            "9985/9985 [==============================] - 32s 3ms/step - loss: 1.2130 - val_loss: 1.4778\n",
            "\n",
            "Epoch 00027: val_loss did not improve from 1.46936\n",
            "Epoch 28/30\n",
            "9985/9985 [==============================] - 31s 3ms/step - loss: 1.2098 - val_loss: 1.4804\n",
            "\n",
            "Epoch 00028: val_loss did not improve from 1.46936\n",
            "Epoch 29/30\n",
            "9985/9985 [==============================] - 31s 3ms/step - loss: 1.2128 - val_loss: 1.5760\n",
            "\n",
            "Epoch 00029: val_loss did not improve from 1.46936\n",
            "Epoch 30/30\n",
            "9985/9985 [==============================] - 31s 3ms/step - loss: 1.1953 - val_loss: 1.5205\n",
            "\n",
            "Epoch 00030: val_loss did not improve from 1.46936\n"
          ],
          "name": "stdout"
        },
        {
          "output_type": "execute_result",
          "data": {
            "text/plain": [
              "<keras.callbacks.callbacks.History at 0x7f0962b976a0>"
            ]
          },
          "metadata": {
            "tags": []
          },
          "execution_count": 53
        }
      ]
    },
    {
      "cell_type": "markdown",
      "metadata": {
        "id": "r0Qe69BJS0oT",
        "colab_type": "text"
      },
      "source": [
        "Modelling with lstms"
      ]
    },
    {
      "cell_type": "code",
      "metadata": {
        "id": "VoYX-5VihrHf",
        "colab_type": "code",
        "colab": {
          "base_uri": "https://localhost:8080/",
          "height": 503
        },
        "outputId": "464ab1e1-964e-4773-ec6e-78aabf547e78"
      },
      "source": [
        "from keras.models import Sequential\n",
        "model = Sequential()\n",
        "model.add(Embedding(vocab_size, 300,weights=[input_matrix],trainable=False))\n",
        "model.add(LSTM(64, dropout=0.3, return_sequences=True))\n",
        "model.add(Dropout(0.5))\n",
        "model.add(LSTM(32, dropout=0.3, return_sequences=True))\n",
        "model.add(Dropout(0.5))\n",
        "model.add(LSTM(16, dropout=0.3, ))\n",
        "model.add(Dropout(0.5))\n",
        "\n",
        "model.add(Dense(100, activation='relu'))\n",
        "model.add(Dropout(0.5))\n",
        "\n",
        "\n",
        "model.add(Dense(7,activation='softmax'))\n",
        "model.compile(loss='categorical_crossentropy', optimizer='adam')\n",
        "model.summary()"
      ],
      "execution_count": 333,
      "outputs": [
        {
          "output_type": "stream",
          "text": [
            "Model: \"sequential_21\"\n",
            "_________________________________________________________________\n",
            "Layer (type)                 Output Shape              Param #   \n",
            "=================================================================\n",
            "embedding_35 (Embedding)     (None, None, 300)         1696500   \n",
            "_________________________________________________________________\n",
            "lstm_44 (LSTM)               (None, None, 64)          93440     \n",
            "_________________________________________________________________\n",
            "dropout_44 (Dropout)         (None, None, 64)          0         \n",
            "_________________________________________________________________\n",
            "lstm_45 (LSTM)               (None, None, 32)          12416     \n",
            "_________________________________________________________________\n",
            "dropout_45 (Dropout)         (None, None, 32)          0         \n",
            "_________________________________________________________________\n",
            "lstm_46 (LSTM)               (None, 16)                3136      \n",
            "_________________________________________________________________\n",
            "dropout_46 (Dropout)         (None, 16)                0         \n",
            "_________________________________________________________________\n",
            "dense_51 (Dense)             (None, 100)               1700      \n",
            "_________________________________________________________________\n",
            "dropout_47 (Dropout)         (None, 100)               0         \n",
            "_________________________________________________________________\n",
            "dense_52 (Dense)             (None, 7)                 707       \n",
            "=================================================================\n",
            "Total params: 1,807,899\n",
            "Trainable params: 111,399\n",
            "Non-trainable params: 1,696,500\n",
            "_________________________________________________________________\n"
          ],
          "name": "stdout"
        }
      ]
    },
    {
      "cell_type": "code",
      "metadata": {
        "id": "790AKy1Soejp",
        "colab_type": "code",
        "colab": {
          "base_uri": "https://localhost:8080/",
          "height": 399
        },
        "outputId": "4b18241d-0d14-4cb4-c2d3-d41308db40d7"
      },
      "source": [
        "model.fit(padded_docs_train, label_train, validation_data=(padded_docs_cv, label_cv),\n",
        "          epochs=10, batch_size=64)\n"
      ],
      "execution_count": 334,
      "outputs": [
        {
          "output_type": "stream",
          "text": [
            "Train on 9985 samples, validate on 1109 samples\n",
            "Epoch 1/10\n",
            "9985/9985 [==============================] - 26s 3ms/step - loss: 1.6401 - val_loss: 1.6335\n",
            "Epoch 2/10\n",
            "9985/9985 [==============================] - 24s 2ms/step - loss: 1.5692 - val_loss: 1.6298\n",
            "Epoch 3/10\n",
            "9985/9985 [==============================] - 24s 2ms/step - loss: 1.5642 - val_loss: 1.6284\n",
            "Epoch 4/10\n",
            "9985/9985 [==============================] - 24s 2ms/step - loss: 1.5558 - val_loss: 1.6266\n",
            "Epoch 5/10\n",
            "9985/9985 [==============================] - 24s 2ms/step - loss: 1.5443 - val_loss: 1.6056\n",
            "Epoch 6/10\n",
            "9985/9985 [==============================] - 24s 2ms/step - loss: 1.5300 - val_loss: 1.5930\n",
            "Epoch 7/10\n",
            "9985/9985 [==============================] - 24s 2ms/step - loss: 1.5157 - val_loss: 1.5861\n",
            "Epoch 8/10\n",
            "9985/9985 [==============================] - 24s 2ms/step - loss: 1.5079 - val_loss: 1.5780\n",
            "Epoch 9/10\n",
            "9985/9985 [==============================] - 24s 2ms/step - loss: 1.4963 - val_loss: 1.5620\n",
            "Epoch 10/10\n",
            "9985/9985 [==============================] - 25s 2ms/step - loss: 1.4856 - val_loss: 1.5573\n"
          ],
          "name": "stdout"
        },
        {
          "output_type": "execute_result",
          "data": {
            "text/plain": [
              "<keras.callbacks.callbacks.History at 0x7f659cbf7a90>"
            ]
          },
          "metadata": {
            "tags": []
          },
          "execution_count": 334
        }
      ]
    },
    {
      "cell_type": "markdown",
      "metadata": {
        "id": "QfMX6qatS6N-",
        "colab_type": "text"
      },
      "source": [
        "Lstm with less no of parameters"
      ]
    },
    {
      "cell_type": "code",
      "metadata": {
        "id": "I6yQfW_TrYeC",
        "colab_type": "code",
        "colab": {
          "base_uri": "https://localhost:8080/",
          "height": 434
        },
        "outputId": "4466838b-21ef-4e31-c5ef-ca26871290a0"
      },
      "source": [
        "from keras.models import Sequential\n",
        "model1 = Sequential()\n",
        "model1.add(Embedding(vocab_size, 300,weights=[input_matrix],trainable=False))\n",
        "model1.add(LSTM(16, dropout=0.5, return_sequences=True))\n",
        "model1.add(Dropout(0.5))\n",
        "model1.add(LSTM(8, dropout=0.5))\n",
        "model1.add(Dropout(0.5))\n",
        "\n",
        "\n",
        "\n",
        "model1.add(Dense(100, activation='relu'))\n",
        "model1.add(Dropout(0.5))\n",
        "\n",
        "model1.add(Dense(7,activation='softmax'))\n",
        "model1.compile(loss='categorical_crossentropy', optimizer='adam')\n",
        "model1.summary()"
      ],
      "execution_count": 47,
      "outputs": [
        {
          "output_type": "stream",
          "text": [
            "Model: \"sequential_6\"\n",
            "_________________________________________________________________\n",
            "Layer (type)                 Output Shape              Param #   \n",
            "=================================================================\n",
            "embedding_6 (Embedding)      (None, None, 300)         1696500   \n",
            "_________________________________________________________________\n",
            "lstm_15 (LSTM)               (None, None, 16)          20288     \n",
            "_________________________________________________________________\n",
            "dropout_20 (Dropout)         (None, None, 16)          0         \n",
            "_________________________________________________________________\n",
            "lstm_16 (LSTM)               (None, 8)                 800       \n",
            "_________________________________________________________________\n",
            "dropout_21 (Dropout)         (None, 8)                 0         \n",
            "_________________________________________________________________\n",
            "dense_11 (Dense)             (None, 100)               900       \n",
            "_________________________________________________________________\n",
            "dropout_22 (Dropout)         (None, 100)               0         \n",
            "_________________________________________________________________\n",
            "dense_12 (Dense)             (None, 7)                 707       \n",
            "=================================================================\n",
            "Total params: 1,719,195\n",
            "Trainable params: 22,695\n",
            "Non-trainable params: 1,696,500\n",
            "_________________________________________________________________\n"
          ],
          "name": "stdout"
        }
      ]
    },
    {
      "cell_type": "code",
      "metadata": {
        "id": "DanWPpDa6AR4",
        "colab_type": "code",
        "colab": {
          "base_uri": "https://localhost:8080/",
          "height": 399
        },
        "outputId": "b5e061cc-b0be-43e7-b2e5-022cff5ef309"
      },
      "source": [
        "model1.fit(padded_docs_train, label_train, validation_data=(padded_docs_cv, label_cv),\n",
        "          epochs=10, batch_size=32)\n"
      ],
      "execution_count": 49,
      "outputs": [
        {
          "output_type": "stream",
          "text": [
            "Train on 9985 samples, validate on 1109 samples\n",
            "Epoch 1/10\n",
            "9985/9985 [==============================] - 14s 1ms/step - loss: 1.5039 - val_loss: 1.5919\n",
            "Epoch 2/10\n",
            "9985/9985 [==============================] - 14s 1ms/step - loss: 1.5009 - val_loss: 1.5771\n",
            "Epoch 3/10\n",
            "9985/9985 [==============================] - 14s 1ms/step - loss: 1.4944 - val_loss: 1.5781\n",
            "Epoch 4/10\n",
            "9985/9985 [==============================] - 14s 1ms/step - loss: 1.4898 - val_loss: 1.6065\n",
            "Epoch 5/10\n",
            "9985/9985 [==============================] - 14s 1ms/step - loss: 1.4857 - val_loss: 1.5532\n",
            "Epoch 6/10\n",
            "9985/9985 [==============================] - 14s 1ms/step - loss: 1.4837 - val_loss: 1.5537\n",
            "Epoch 7/10\n",
            "9985/9985 [==============================] - 14s 1ms/step - loss: 1.4844 - val_loss: 1.5452\n",
            "Epoch 8/10\n",
            "9985/9985 [==============================] - 14s 1ms/step - loss: 1.4803 - val_loss: 1.5496\n",
            "Epoch 9/10\n",
            "9985/9985 [==============================] - 14s 1ms/step - loss: 1.4738 - val_loss: 1.5673\n",
            "Epoch 10/10\n",
            "9985/9985 [==============================] - 14s 1ms/step - loss: 1.4756 - val_loss: 1.5438\n"
          ],
          "name": "stdout"
        },
        {
          "output_type": "execute_result",
          "data": {
            "text/plain": [
              "<keras.callbacks.callbacks.History at 0x7f7941147438>"
            ]
          },
          "metadata": {
            "tags": []
          },
          "execution_count": 49
        }
      ]
    },
    {
      "cell_type": "markdown",
      "metadata": {
        "id": "8nAsi-lHTA6E",
        "colab_type": "text"
      },
      "source": [
        "Bidirectional Lstm"
      ]
    },
    {
      "cell_type": "code",
      "metadata": {
        "id": "tOb41Znd6GHU",
        "colab_type": "code",
        "colab": {
          "base_uri": "https://localhost:8080/",
          "height": 434
        },
        "outputId": "63109781-2aaf-4601-89ba-b3d320ff980f"
      },
      "source": [
        "from keras.models import Sequential\n",
        "model1 = Sequential()\n",
        "model1.add(Embedding(vocab_size, 300,weights=[input_matrix],trainable=False))\n",
        "model1.add(Bidirectional(LSTM(16, dropout=0.5, return_sequences=True)))\n",
        "model1.add(Dropout(0.5))\n",
        "model1.add(LSTM(8, dropout=0.5))\n",
        "model1.add(Dropout(0.5))\n",
        "\n",
        "\n",
        "\n",
        "model1.add(Dense(50, activation='relu'))\n",
        "model1.add(Dropout(0.5))\n",
        "\n",
        "model1.add(Dense(7,activation='softmax'))\n",
        "model1.compile(loss='categorical_crossentropy', optimizer='adam')\n",
        "model1.summary()"
      ],
      "execution_count": 50,
      "outputs": [
        {
          "output_type": "stream",
          "text": [
            "Model: \"sequential_7\"\n",
            "_________________________________________________________________\n",
            "Layer (type)                 Output Shape              Param #   \n",
            "=================================================================\n",
            "embedding_7 (Embedding)      (None, None, 300)         1696500   \n",
            "_________________________________________________________________\n",
            "bidirectional_2 (Bidirection (None, None, 32)          40576     \n",
            "_________________________________________________________________\n",
            "dropout_23 (Dropout)         (None, None, 32)          0         \n",
            "_________________________________________________________________\n",
            "lstm_18 (LSTM)               (None, 8)                 1312      \n",
            "_________________________________________________________________\n",
            "dropout_24 (Dropout)         (None, 8)                 0         \n",
            "_________________________________________________________________\n",
            "dense_13 (Dense)             (None, 50)                450       \n",
            "_________________________________________________________________\n",
            "dropout_25 (Dropout)         (None, 50)                0         \n",
            "_________________________________________________________________\n",
            "dense_14 (Dense)             (None, 7)                 357       \n",
            "=================================================================\n",
            "Total params: 1,739,195\n",
            "Trainable params: 42,695\n",
            "Non-trainable params: 1,696,500\n",
            "_________________________________________________________________\n"
          ],
          "name": "stdout"
        }
      ]
    },
    {
      "cell_type": "code",
      "metadata": {
        "id": "w9vwV4vyCS-o",
        "colab_type": "code",
        "colab": {
          "base_uri": "https://localhost:8080/",
          "height": 399
        },
        "outputId": "3d44fb07-db7d-4fd3-f2f2-23d10ed72460"
      },
      "source": [
        "model1.fit(padded_docs_train, label_train, validation_data=(padded_docs_cv, label_cv),\n",
        "          epochs=10, batch_size=64)\n"
      ],
      "execution_count": 51,
      "outputs": [
        {
          "output_type": "stream",
          "text": [
            "Train on 9985 samples, validate on 1109 samples\n",
            "Epoch 1/10\n",
            "9985/9985 [==============================] - 14s 1ms/step - loss: 1.6850 - val_loss: 1.6397\n",
            "Epoch 2/10\n",
            "9985/9985 [==============================] - 13s 1ms/step - loss: 1.5817 - val_loss: 1.6250\n",
            "Epoch 3/10\n",
            "9985/9985 [==============================] - 13s 1ms/step - loss: 1.5535 - val_loss: 1.6058\n",
            "Epoch 4/10\n",
            "9985/9985 [==============================] - 13s 1ms/step - loss: 1.5386 - val_loss: 1.6053\n",
            "Epoch 5/10\n",
            "9985/9985 [==============================] - 12s 1ms/step - loss: 1.5273 - val_loss: 1.5907\n",
            "Epoch 6/10\n",
            "9985/9985 [==============================] - 14s 1ms/step - loss: 1.5212 - val_loss: 1.5817\n",
            "Epoch 7/10\n",
            "9985/9985 [==============================] - 14s 1ms/step - loss: 1.5194 - val_loss: 1.5880\n",
            "Epoch 8/10\n",
            "9985/9985 [==============================] - 12s 1ms/step - loss: 1.5117 - val_loss: 1.5779\n",
            "Epoch 9/10\n",
            "9985/9985 [==============================] - 13s 1ms/step - loss: 1.5083 - val_loss: 1.5669\n",
            "Epoch 10/10\n",
            "9985/9985 [==============================] - 12s 1ms/step - loss: 1.5045 - val_loss: 1.5800\n"
          ],
          "name": "stdout"
        },
        {
          "output_type": "execute_result",
          "data": {
            "text/plain": [
              "<keras.callbacks.callbacks.History at 0x7f79410c71d0>"
            ]
          },
          "metadata": {
            "tags": []
          },
          "execution_count": 51
        }
      ]
    },
    {
      "cell_type": "code",
      "metadata": {
        "id": "brOLHbDFHOPm",
        "colab_type": "code",
        "colab": {}
      },
      "source": [
        ""
      ],
      "execution_count": null,
      "outputs": []
    },
    {
      "cell_type": "markdown",
      "metadata": {
        "id": "imx5AWkGTKJp",
        "colab_type": "text"
      },
      "source": [
        "Testing with best model"
      ]
    },
    {
      "cell_type": "code",
      "metadata": {
        "id": "KmRHagZm9D-9",
        "colab_type": "code",
        "colab": {
          "base_uri": "https://localhost:8080/",
          "height": 677
        },
        "outputId": "a9de3969-85fd-484d-de3b-c2d160c879d0"
      },
      "source": [
        "sequence_input = Input(shape=(50,))\n",
        "embedding_layer = Embedding(vocab_size, 300,weights=[input_matrix],trainable=False)\n",
        "embedded_sequences = embedding_layer(sequence_input)\n",
        "x = Conv1D(256, 3, activation='relu')(embedded_sequences)\n",
        "x = Dropout(0.5)(x)\n",
        "x = BatchNormalization()(x) \n",
        "x = LSTM(64, dropout=0.3, return_sequences=True)(x)\n",
        "x = Conv1D(128, 3, activation='relu')(x)\n",
        "x = Dropout(0.5)(x)\n",
        "x = BatchNormalization()(x) \n",
        "x = Conv1D(64, 1, activation='relu')(x)\n",
        "x = Dropout(0.5)(x)\n",
        "x = BatchNormalization()(x)\n",
        "x = Flatten()(x)\n",
        "x = Dense(64, activation='relu')(x)\n",
        "preds = Dense(7, activation='softmax')(x)\n",
        "\n",
        "model1 = Model(sequence_input, preds)\n",
        "model1.load_weights(\"/content/weights_email.h5\")\n",
        "model1.compile(loss='categorical_crossentropy',\n",
        "              optimizer='adam',\n",
        "              )\n",
        "model1.summary()"
      ],
      "execution_count": 55,
      "outputs": [
        {
          "output_type": "stream",
          "text": [
            "Model: \"model_6\"\n",
            "_________________________________________________________________\n",
            "Layer (type)                 Output Shape              Param #   \n",
            "=================================================================\n",
            "input_6 (InputLayer)         (None, 50)                0         \n",
            "_________________________________________________________________\n",
            "embedding_6 (Embedding)      (None, 50, 300)           1696500   \n",
            "_________________________________________________________________\n",
            "conv1d_16 (Conv1D)           (None, 48, 256)           230656    \n",
            "_________________________________________________________________\n",
            "dropout_16 (Dropout)         (None, 48, 256)           0         \n",
            "_________________________________________________________________\n",
            "batch_normalization_16 (Batc (None, 48, 256)           1024      \n",
            "_________________________________________________________________\n",
            "lstm_6 (LSTM)                (None, 48, 64)            82176     \n",
            "_________________________________________________________________\n",
            "conv1d_17 (Conv1D)           (None, 46, 128)           24704     \n",
            "_________________________________________________________________\n",
            "dropout_17 (Dropout)         (None, 46, 128)           0         \n",
            "_________________________________________________________________\n",
            "batch_normalization_17 (Batc (None, 46, 128)           512       \n",
            "_________________________________________________________________\n",
            "conv1d_18 (Conv1D)           (None, 46, 64)            8256      \n",
            "_________________________________________________________________\n",
            "dropout_18 (Dropout)         (None, 46, 64)            0         \n",
            "_________________________________________________________________\n",
            "batch_normalization_18 (Batc (None, 46, 64)            256       \n",
            "_________________________________________________________________\n",
            "flatten_6 (Flatten)          (None, 2944)              0         \n",
            "_________________________________________________________________\n",
            "dense_11 (Dense)             (None, 64)                188480    \n",
            "_________________________________________________________________\n",
            "dense_12 (Dense)             (None, 7)                 455       \n",
            "=================================================================\n",
            "Total params: 2,233,019\n",
            "Trainable params: 535,623\n",
            "Non-trainable params: 1,697,396\n",
            "_________________________________________________________________\n"
          ],
          "name": "stdout"
        }
      ]
    },
    {
      "cell_type": "code",
      "metadata": {
        "id": "03TZ_p4C9D8p",
        "colab_type": "code",
        "colab": {}
      },
      "source": [
        "X = padded_docs_test\n",
        "Y = label_test\n",
        "scores = model1.evaluate(X, Y, verbose=0)"
      ],
      "execution_count": 83,
      "outputs": []
    },
    {
      "cell_type": "markdown",
      "metadata": {
        "id": "PKMmJSZVTRSo",
        "colab_type": "text"
      },
      "source": [
        "score we got after testing on best model"
      ]
    },
    {
      "cell_type": "code",
      "metadata": {
        "id": "xP8wstdJ--R6",
        "colab_type": "code",
        "colab": {
          "base_uri": "https://localhost:8080/",
          "height": 34
        },
        "outputId": "0992f066-5ecf-4510-c8aa-4341f1f1abfa"
      },
      "source": [
        "scores"
      ],
      "execution_count": 84,
      "outputs": [
        {
          "output_type": "execute_result",
          "data": {
            "text/plain": [
              "1.408076105446651"
            ]
          },
          "metadata": {
            "tags": []
          },
          "execution_count": 84
        }
      ]
    },
    {
      "cell_type": "code",
      "metadata": {
        "id": "Yu2YpjWDALhS",
        "colab_type": "code",
        "colab": {}
      },
      "source": [
        "a=model1.predict(X[:5]).argmax(axis=-1)"
      ],
      "execution_count": 104,
      "outputs": []
    },
    {
      "cell_type": "code",
      "metadata": {
        "id": "wa7AQ9_LDyaM",
        "colab_type": "code",
        "colab": {
          "base_uri": "https://localhost:8080/",
          "height": 104
        },
        "outputId": "669cb1aa-0785-44b2-f175-c5841c077638"
      },
      "source": [
        "for i in a:\n",
        "  print(label_dict[i])"
      ],
      "execution_count": 109,
      "outputs": [
        {
          "output_type": "stream",
          "text": [
            "neutral\n",
            "neutral\n",
            "neutral\n",
            "neutral\n",
            "neutral\n"
          ],
          "name": "stdout"
        }
      ]
    }
  ]
}